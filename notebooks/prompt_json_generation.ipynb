{
 "cells": [
  {
   "cell_type": "markdown",
   "id": "5c236f32",
   "metadata": {
    "slideshow": {
     "slide_type": "slide"
    }
   },
   "source": [
    "# Evaluate JSON Generation Ability\n",
    "\n",
    "Use a HuggingFace dataset of BBC News articles to determine the ability of various OpenAI models to generate correct JSON."
   ]
  },
  {
   "cell_type": "code",
   "execution_count": 2,
   "id": "a15eacec",
   "metadata": {
    "slideshow": {
     "slide_type": "skip"
    }
   },
   "outputs": [],
   "source": [
    "from collections import defaultdict\n",
    "import asyncio\n",
    "from enum import StrEnum\n",
    "import json\n",
    "import math\n",
    "import re\n",
    "\n",
    "from datasets import load_dataset\n",
    "from openai import AsyncOpenAI, OpenAI\n",
    "from pydantic import BaseModel, Field, ValidationError\n",
    "from tqdm.notebook import tqdm\n",
    "import matplotlib.pyplot as plt\n",
    "import nest_asyncio\n",
    "import numpy as np\n",
    "import pandas as pd\n"
   ]
  },
  {
   "cell_type": "code",
   "execution_count": 3,
   "id": "cc268555",
   "metadata": {
    "slideshow": {
     "slide_type": "skip"
    }
   },
   "outputs": [],
   "source": [
    "nest_asyncio.apply()"
   ]
  },
  {
   "cell_type": "markdown",
   "id": "2790a2b7",
   "metadata": {
    "slideshow": {
     "slide_type": "slide"
    }
   },
   "source": [
    "## Load Dataset\n",
    "\n",
    "Load the dataset of BBC News articles. Combine the test and train datasets since we won't be training a model."
   ]
  },
  {
   "cell_type": "code",
   "execution_count": 4,
   "id": "f0b59029",
   "metadata": {
    "slideshow": {
     "slide_type": "slide"
    }
   },
   "outputs": [
    {
     "name": "stdout",
     "output_type": "stream",
     "text": [
      "Dataset Overview:\n",
      "Dataset size: 2225\n",
      "\n",
      "Label distribution in training set:\n",
      "label_text\n",
      "sport            511\n",
      "business         510\n",
      "politics         417\n",
      "tech             401\n",
      "entertainment    386\n",
      "Name: count, dtype: int64\n",
      "\n",
      "Sample text from training set:\n",
      "wales want rugby league training wales could follow england s lead by training with a rugby league club.  england have already had a three-day session with leeds rhinos  and wales are thought to be in\n",
      "\n",
      "Text length mean: 2288.95\n"
     ]
    }
   ],
   "source": [
    "\n",
    "dataset = load_dataset(\"SetFit/bbc-news\")\n",
    "\n",
    "train_df = pd.DataFrame(dataset['train'])\n",
    "test_df = pd.DataFrame(dataset['test'])\n",
    "combined_df = pd.concat([train_df, test_df])\n",
    "\n",
    "print(\"Dataset Overview:\")\n",
    "print(f\"Dataset size: {len(combined_df)}\")\n",
    "print(\"\\nLabel distribution in training set:\")\n",
    "print(combined_df['label_text'].value_counts())\n",
    "print(\"\\nSample text from training set:\")\n",
    "print(combined_df['text'].iloc[0][:200])\n",
    "\n",
    "train_df['text_length'] = train_df['text'].str.len()\n",
    "print(f\"\\nText length mean: {train_df['text_length'].mean():.2f}\")"
   ]
  },
  {
   "cell_type": "markdown",
   "id": "97fdb3e0",
   "metadata": {
    "slideshow": {
     "slide_type": "slide"
    }
   },
   "source": [
    "## Declare Output Schema\n",
    "\n",
    "Declare the output schema that we want the LLM to generate"
   ]
  },
  {
   "cell_type": "code",
   "execution_count": 5,
   "id": "907347d1",
   "metadata": {
    "slideshow": {
     "slide_type": "slide"
    }
   },
   "outputs": [],
   "source": [
    "class ArticleCategory(StrEnum):\n",
    "    BUSINESS = \"business\"\n",
    "    ENTERTAINMENT = \"entertainment\"\n",
    "    POLITICS = \"politics\"\n",
    "    SPORT = \"sport\"\n",
    "    TECH = \"tech\"\n",
    "\n",
    "class NamedEntityType(StrEnum):\n",
    "    COMPANY = \"company\"\n",
    "    COUNTRY = \"country\"\n",
    "    LOCATION = \"location\"\n",
    "    PERSON = \"person\"\n",
    "    TEAM = \"team\"\n",
    "\n",
    "class NamedEntity(BaseModel):\n",
    "    name: str = Field(description=\"Name of the person, company, etc.\")\n",
    "    type: NamedEntityType = Field(description=\"Type of named entity\")\n",
    "\n",
    "class NewsArticle(BaseModel):\n",
    "    title: str = Field(description=\"Appropriate headline for the news article\")\n",
    "    category: ArticleCategory = Field(description=\"Category of news that the article belongs to\")\n",
    "    mentioned_entities: list[NamedEntity] = Field(description=\"List of all named entities in the article\", default_factory=list)\n",
    "    summary: str = Field(description=\"Brief summary of the article content.\")\n",
    "    length: int = Field(description=\"Length of the article in words.\")\n",
    "\n"
   ]
  },
  {
   "cell_type": "code",
   "execution_count": 6,
   "id": "2947eba7",
   "metadata": {
    "slideshow": {
     "slide_type": "slide"
    }
   },
   "outputs": [
    {
     "name": "stdout",
     "output_type": "stream",
     "text": [
      "{\n",
      "  \"$defs\": {\n",
      "    \"ArticleCategory\": {\n",
      "      \"enum\": [\n",
      "        \"business\",\n",
      "        \"entertainment\",\n",
      "        \"politics\",\n",
      "        \"sport\",\n",
      "        \"tech\"\n",
      "      ],\n",
      "      \"title\": \"ArticleCategory\",\n",
      "      \"type\": \"string\"\n",
      "    },\n",
      "    \"NamedEntity\": {\n",
      "      \"properties\": {\n",
      "        \"name\": {\n",
      "          \"description\": \"Name of the person, company, etc.\",\n",
      "          \"title\": \"Name\",\n",
      "          \"type\": \"string\"\n",
      "        },\n",
      "        \"type\": {\n",
      "          \"$ref\": \"#/$defs/NamedEntityType\",\n",
      "          \"description\": \"Type of named entity\"\n",
      "        }\n",
      "      },\n",
      "      \"required\": [\n",
      "        \"name\",\n",
      "        \"type\"\n",
      "      ],\n",
      "      \"title\": \"NamedEntity\",\n",
      "      \"type\": \"object\"\n",
      "    },\n",
      "    \"NamedEntityType\": {\n",
      "      \"enum\": [\n",
      "        \"company\",\n",
      "        \"country\",\n",
      "        \"location\",\n",
      "        \"person\",\n",
      "        \"team\"\n",
      "      ],\n",
      "      \"title\": \"NamedEntityType\",\n",
      "      \"type\": \"string\"\n",
      "    }\n",
      "  },\n",
      "  \"properties\": {\n",
      "    \"title\": {\n",
      "      \"description\": \"Appropriate headline for the news article\",\n",
      "      \"title\": \"Title\",\n",
      "      \"type\": \"string\"\n",
      "    },\n",
      "    \"category\": {\n",
      "      \"$ref\": \"#/$defs/ArticleCategory\",\n",
      "      \"description\": \"Category of news that the article belongs to\"\n",
      "    },\n",
      "    \"mentioned_entities\": {\n",
      "      \"description\": \"List of all named entities in the article\",\n",
      "      \"items\": {\n",
      "        \"$ref\": \"#/$defs/NamedEntity\"\n",
      "      },\n",
      "      \"title\": \"Mentioned Entities\",\n",
      "      \"type\": \"array\"\n",
      "    },\n",
      "    \"summary\": {\n",
      "      \"description\": \"Brief summary of the article content.\",\n",
      "      \"title\": \"Summary\",\n",
      "      \"type\": \"string\"\n",
      "    },\n",
      "    \"length\": {\n",
      "      \"description\": \"Length of the article in words.\",\n",
      "      \"title\": \"Length\",\n",
      "      \"type\": \"integer\"\n",
      "    }\n",
      "  },\n",
      "  \"required\": [\n",
      "    \"title\",\n",
      "    \"category\",\n",
      "    \"summary\",\n",
      "    \"length\"\n",
      "  ],\n",
      "  \"title\": \"NewsArticle\",\n",
      "  \"type\": \"object\"\n",
      "}\n"
     ]
    }
   ],
   "source": [
    "news_article_schema = NewsArticle.model_json_schema()\n",
    "print(json.dumps(news_article_schema, indent=2))"
   ]
  },
  {
   "cell_type": "markdown",
   "id": "cc8b65e4",
   "metadata": {},
   "source": [
    "## Create LLM Prompt\n",
    "\n",
    "This prompt injects the JSON schema that was generated as well as a news article to analyze."
   ]
  },
  {
   "cell_type": "code",
   "execution_count": 7,
   "id": "15d20f4c",
   "metadata": {},
   "outputs": [],
   "source": [
    "EXTRACTION_PROMPT = \"\"\"\n",
    "Read the news article below and extract the information into a\n",
    "JSON object. This is the schema you should use to extract the\n",
    "data. It's provided in standard JSON Schema format.\n",
    "\n",
    "```json\n",
    "{news_article_schema}\n",
    "```\n",
    "\n",
    "Here is the news article to generate the JSON data for. The article\n",
    "is surrounded by triple backticks.\n",
    "\n",
    "```\n",
    "{news_article}\n",
    "```\n",
    "\n",
    "Format your response as a JSON object surrounded by triple backticks\n",
    "with the 'json' identifier like this:\n",
    "```json\n",
    "your JSON object here\n",
    "```\n",
    "\n",
    "Be sure to follow the provided schema exactly.\n",
    "\"\"\""
   ]
  },
  {
   "cell_type": "markdown",
   "id": "f23075be",
   "metadata": {},
   "source": [
    "## Run Evaluation\n",
    "\n",
    "Run an evaluation for all models in `model_names`. The criteria for passing is if the output text can be parsed into a `NewsArticle` object. If the validation fails for any reason then the test fails. The contents of the `NewsArticle` object aren't evaluated.\n",
    "\n",
    "If this notebook is being run in Github Codespaces, you'll need to set `OPENAI_API_KEY` as a codespace secret in user settings. If it's being run locally then you'll need to set the environment variable `OPENAI_API_KEY`."
   ]
  },
  {
   "cell_type": "code",
   "execution_count": 7,
   "id": "643d6d45",
   "metadata": {},
   "outputs": [],
   "source": [
    "async def extract_article_data(article: str, model_name: str, client: AsyncOpenAI, semaphore: asyncio.Semaphore) -> bool:\n",
    "    \"\"\"Returns true if JSON is appropriately formatted\"\"\"\n",
    "\n",
    "    formatted_prompt = EXTRACTION_PROMPT.format(\n",
    "        news_article_schema=json.dumps(news_article_schema, indent=2),\n",
    "        news_article=article\n",
    "    )\n",
    "\n",
    "    async with semaphore:\n",
    "        response = await client.responses.create(\n",
    "            model=model_name,\n",
    "            input=formatted_prompt,\n",
    "            temperature=0.0,\n",
    "        )\n",
    "    extracted_json = response.output_text\n",
    "    json_match = re.search(r'```json\\s*(.*?)\\s*```', extracted_json, re.DOTALL)\n",
    "\n",
    "    if json_match:\n",
    "        json_content = json_match.group(1).strip()\n",
    "\n",
    "        try:\n",
    "            parsed_json = json.loads(json_content)\n",
    "            _ = NewsArticle.model_validate(parsed_json)\n",
    "            return True\n",
    "        except (json.JSONDecodeError, ValidationError) as e:\n",
    "            return False\n",
    "    else:\n",
    "        return False"
   ]
  },
  {
   "cell_type": "code",
   "execution_count": 9,
   "id": "79773ed1",
   "metadata": {},
   "outputs": [
    {
     "data": {
      "application/vnd.jupyter.widget-view+json": {
       "model_id": "6f0d9fe1ba064b0a96c9920af1f1c211",
       "version_major": 2,
       "version_minor": 0
      },
      "text/plain": [
       "  0%|          | 0/100 [00:00<?, ?it/s]"
      ]
     },
     "metadata": {},
     "output_type": "display_data"
    },
    {
     "name": "stdout",
     "output_type": "stream",
     "text": [
      "For gpt-3.5-turbo successfully validated 84 of 100 records\n"
     ]
    },
    {
     "data": {
      "application/vnd.jupyter.widget-view+json": {
       "model_id": "12615c47551746e48bac4c0979b2aaea",
       "version_major": 2,
       "version_minor": 0
      },
      "text/plain": [
       "  0%|          | 0/100 [00:00<?, ?it/s]"
      ]
     },
     "metadata": {},
     "output_type": "display_data"
    },
    {
     "name": "stdout",
     "output_type": "stream",
     "text": [
      "For gpt-4-turbo successfully validated 90 of 100 records\n"
     ]
    },
    {
     "data": {
      "application/vnd.jupyter.widget-view+json": {
       "model_id": "ba5c080e7f8d4cb2b0acff6094b7e247",
       "version_major": 2,
       "version_minor": 0
      },
      "text/plain": [
       "  0%|          | 0/100 [00:00<?, ?it/s]"
      ]
     },
     "metadata": {},
     "output_type": "display_data"
    },
    {
     "name": "stdout",
     "output_type": "stream",
     "text": [
      "For gpt-4o-mini successfully validated 69 of 100 records\n"
     ]
    }
   ],
   "source": [
    "openai_client = AsyncOpenAI()\n",
    "\n",
    "ARTICLE_COUNT = 100\n",
    "MAX_CONCURRENT_TASKS = 3\n",
    "loop_semaphore = asyncio.Semaphore(MAX_CONCURRENT_TASKS)\n",
    "\n",
    "success_count = 0\n",
    "model_names=[\"gpt-3.5-turbo\", \"gpt-4-turbo\", \"gpt-4o-mini\"]\n",
    "\n",
    "results = defaultdict(list)\n",
    "for model_name in model_names:\n",
    "    tasks = [extract_article_data(article, model_name, openai_client, loop_semaphore) for article in combined_df['text'][:ARTICLE_COUNT]]\n",
    "\n",
    "    for f in tqdm(asyncio.as_completed(tasks), total=len(tasks)):\n",
    "        results[model_name].append(await f)\n",
    "        \n",
    "    success_count = sum(1 for result in results[model_name] if result)\n",
    "    print(f\"For {model_name} successfully validated {success_count} of {ARTICLE_COUNT} records\")"
   ]
  },
  {
   "cell_type": "markdown",
   "id": "bd0ee673",
   "metadata": {},
   "source": [
    "# Display Results"
   ]
  },
  {
   "cell_type": "code",
   "execution_count": 10,
   "id": "c279fef8",
   "metadata": {},
   "outputs": [],
   "source": [
    "model_success_rates = {}\n",
    "for model_name, results_list in results.items():\n",
    "    success_count = sum(1 for result in results_list if result)\n",
    "    success_rate = (success_count / len(results_list)) * 100\n",
    "    model_success_rates[model_name] = success_rate\n"
   ]
  },
  {
   "cell_type": "code",
   "execution_count": 11,
   "id": "f73cee9d",
   "metadata": {},
   "outputs": [
    {
     "data": {
      "image/png": "[encoded data removed]",
      "text/plain": [
       "<Figure size 1000x600 with 1 Axes>"
      ]
     },
     "metadata": {},
     "output_type": "display_data"
    }
   ],
   "source": [
    "\n",
    "models = list(results.keys())\n",
    "success_rates = [model_success_rates[model] for model in models]\n",
    "\n",
    "plt.figure(figsize=(10, 6))\n",
    "bars = plt.bar(models, success_rates, color=['#5DA5DA', '#FAA43A', '#60BD68'])\n",
    "\n",
    "plt.xlabel('Model')\n",
    "plt.ylabel('Success Rate (%)')\n",
    "plt.title('JSON Extraction Success Rate by Model')\n",
    "plt.ylim(0, 100)\n",
    "\n",
    "plt.grid(axis='y', linestyle='--', alpha=0.7)\n",
    "plt.tight_layout()\n",
    "plt.show()"
   ]
  },
  {
   "cell_type": "markdown",
   "id": "c47536b5",
   "metadata": {},
   "source": [
    "## Analyze Logprobs\n"
   ]
  },
  {
   "cell_type": "code",
   "execution_count": 8,
   "id": "4b44a45b",
   "metadata": {
    "slideshow": {
     "slide_type": "skip"
    }
   },
   "outputs": [],
   "source": [
    "def visualize_json_with_heatmap(response):\n",
    "    \"\"\"\n",
    "    Display the JSON output from a model response with a heatmap overlay based on token logprobs.\n",
    "    \n",
    "    Args:\n",
    "        response: The response object from OpenAI API containing logprobs\n",
    "    \"\"\"\n",
    "    import matplotlib.pyplot as plt\n",
    "    import matplotlib.colors as mcolors\n",
    "    from matplotlib.patches import Rectangle\n",
    "    import numpy as np\n",
    "    from IPython.display import display, HTML\n",
    "    import json\n",
    "    import re\n",
    "    \n",
    "    # Extract the full response text\n",
    "    full_text = response.choices[0].message.content\n",
    "    \n",
    "    # Extract JSON from the response\n",
    "    json_match = re.search(r'```json\\s*(.*?)\\s*```', full_text, re.DOTALL)\n",
    "    if not json_match:\n",
    "        print(\"No JSON found in the response\")\n",
    "        return\n",
    "    \n",
    "    json_text = json_match.group(1).strip()\n",
    "    \n",
    "    # Try to parse and format the JSON for better display\n",
    "    try:\n",
    "        parsed_json = json.loads(json_text)\n",
    "        formatted_json = json.dumps(parsed_json, indent=2)\n",
    "    except json.JSONDecodeError:\n",
    "        formatted_json = json_text  # Use the extracted text if parsing fails\n",
    "    \n",
    "    # Get tokens and their logprobs\n",
    "    tokens = []\n",
    "    probs = []\n",
    "    \n",
    "    for token_info in response.choices[0].logprobs.content:\n",
    "        tokens.append(token_info.token)\n",
    "        # Convert logprob to probability\n",
    "        # FIX: Use top_logprobs[0].logprob\n",
    "        probs.append(np.exp(token_info.top_logprobs[0].logprob))\n",
    "    \n",
    "    # Reconstruct the full text from tokens for accurate mapping\n",
    "    reconstructed_text = ''.join(tokens)\n",
    "    \n",
    "    # Find the position of JSON in the full response\n",
    "    json_pattern = re.escape(json_text)\n",
    "    json_matches = re.finditer(json_pattern, reconstructed_text, re.DOTALL)\n",
    "    \n",
    "    try:\n",
    "        match = next(json_matches)\n",
    "        json_start = match.start()\n",
    "        json_end = match.end()\n",
    "    except StopIteration:\n",
    "        # If the escaped pattern doesn't match, try a more lenient approach\n",
    "        # This might be necessary if there are slight differences in whitespace\n",
    "        print(\"Using alternative JSON matching method...\")\n",
    "        cleaned_json = re.sub(r'\\s+', '', json_text)\n",
    "        cleaned_reconstructed = re.sub(r'\\s+', '', reconstructed_text)\n",
    "        json_start = cleaned_reconstructed.find(cleaned_json)\n",
    "        if json_start == -1:\n",
    "            print(\"Could not locate JSON in response tokens, showing full response instead\")\n",
    "            json_start = 0\n",
    "            json_end = len(reconstructed_text)\n",
    "        else:\n",
    "            json_end = json_start + len(cleaned_json)\n",
    "            # Now map back to original indices with whitespace\n",
    "            original_pos = 0\n",
    "            cleaned_pos = 0\n",
    "            mapped_start = 0\n",
    "            \n",
    "            for i, char in enumerate(reconstructed_text):\n",
    "                if not char.isspace():\n",
    "                    if cleaned_pos == json_start:\n",
    "                        mapped_start = i\n",
    "                        break\n",
    "                    cleaned_pos += 1\n",
    "                original_pos += 1\n",
    "            \n",
    "            json_start = mapped_start\n",
    "            # For end, just use the formatted_json length from the starting position\n",
    "            json_end = json_start + len(json_text)\n",
    "    \n",
    "    # Find which tokens correspond to the JSON content\n",
    "    token_indices = []\n",
    "    current_pos = 0\n",
    "    \n",
    "    for i, token in enumerate(tokens):\n",
    "        next_pos = current_pos + len(token)\n",
    "        # Check if this token is part of the JSON content\n",
    "        if (current_pos >= json_start and current_pos < json_end) or (next_pos > json_start and current_pos < json_end):\n",
    "            token_indices.append(i)\n",
    "        current_pos = next_pos\n",
    "        if current_pos > json_end:\n",
    "            break\n",
    "    \n",
    "    # Create a color map\n",
    "    # Use 'RdYlGn' reversed so green is high, red is low\n",
    "    cmap = plt.colormaps['RdYlGn']\n",
    "    norm = mcolors.Normalize(vmin=0, vmax=1)\n",
    "    \n",
    "    # Build HTML with styled spans for each token\n",
    "    html_parts = []\n",
    "    html_parts.append('<pre style=\"font-family: monospace; white-space: pre-wrap; line-height: 1.5;\">')\n",
    "    \n",
    "    # If for some reason we couldn't find the tokens, display the formatted JSON with neutral styling\n",
    "    if not token_indices:\n",
    "        html_parts.append(f'<span>{formatted_json}</span>')\n",
    "    else:\n",
    "        # Get the JSON tokens and their probabilities\n",
    "        json_tokens = [tokens[i] for i in token_indices]\n",
    "        json_probs = [probs[i] for i in token_indices]\n",
    "        \n",
    "        # Display each token with appropriate color\n",
    "        for token, prob in zip(json_tokens, json_probs):\n",
    "            # Get the color for this probability\n",
    "            rgba = cmap(norm(prob))\n",
    "            rgb = f\"rgb({int(rgba[0]*255)}, {int(rgba[1]*255)}, {int(rgba[2]*255)})\"\n",
    "            \n",
    "            # Calculate text color (black for light backgrounds, white for dark)\n",
    "            luminance = 0.299 * rgba[0] + 0.587 * rgba[1] + 0.114 * rgba[2]\n",
    "            text_color = \"black\" if luminance > 0.5 else \"white\"\n",
    "            \n",
    "            # Replace special characters for HTML display\n",
    "            html_token = token.replace('&', '&amp;').replace('<', '&lt;').replace('>', '&gt;').replace('\\n', '<br>')\n",
    "            \n",
    "            # Add the styled span\n",
    "            html_parts.append(f'<span style=\"background-color: {rgb}; color: {text_color};\">{html_token}</span>')\n",
    "    \n",
    "    html_parts.append('</pre>')\n",
    "    \n",
    "    # Add a color bar legend\n",
    "    html_parts.append('<div style=\"margin-top: 20px; font-family: sans-serif;\">')\n",
    "    html_parts.append('<p><b>Token Probability Legend:</b></p>')\n",
    "    html_parts.append('<div style=\"display: flex; width: 300px; height: 30px;\">')\n",
    "    \n",
    "    # Create gradient bar\n",
    "    for i in range(10):\n",
    "        prob = i / 10\n",
    "        rgba = cmap(norm(prob))\n",
    "        rgb = f\"rgb({int(rgba[0]*255)}, {int(rgba[1]*255)}, {int(rgba[2]*255)})\"\n",
    "        html_parts.append(f'<div style=\"flex: 1; height: 100%; background-color: {rgb};\"></div>')\n",
    "    \n",
    "    html_parts.append('</div>')\n",
    "    html_parts.append('<div style=\"display: flex; width: 300px; justify-content: space-between;\">')\n",
    "    html_parts.append('<span>0.0</span><span>0.5</span><span>1.0</span>')\n",
    "    html_parts.append('</div>')\n",
    "    html_parts.append('</div>')\n",
    "    \n",
    "    # Display the HTML\n",
    "    display(HTML(''.join(html_parts)))"
   ]
  },
  {
   "cell_type": "code",
   "execution_count": 9,
   "id": "a22c10f1",
   "metadata": {},
   "outputs": [],
   "source": [
    "def generate_and_visualize_json(article_idx=0):\n",
    "    \"\"\"Generate JSON for an article and visualize the output with heatmap\"\"\"\n",
    "    from openai import OpenAI\n",
    "    \n",
    "    # Set up client\n",
    "    client = OpenAI()\n",
    "    article = combined_df['text'].iloc[article_idx]\n",
    "    \n",
    "    # Use the prompt with schema\n",
    "    formatted_prompt = EXTRACTION_PROMPT.format(\n",
    "        news_article_schema=json.dumps(news_article_schema, indent=2),\n",
    "        news_article=article\n",
    "    )\n",
    "    \n",
    "    # Call the API with logprobs\n",
    "    response = client.beta.chat.completions.parse(\n",
    "        model=\"gpt-4o-mini\",  # Or any other model you want to test\n",
    "        messages=[{\"role\": \"user\", \"content\": formatted_prompt}],\n",
    "        temperature=0.0,\n",
    "        logprobs=True,\n",
    "        top_logprobs=1\n",
    "    )\n",
    "    \n",
    "    # Visualize the result\n",
    "    visualize_json_with_heatmap(response)\n",
    "    \n",
    "    return response"
   ]
  },
  {
   "cell_type": "code",
   "execution_count": null,
   "id": "9e31ea9a",
   "metadata": {
    "slideshow": {
     "slide_type": "slide"
    }
   },
   "outputs": [
    {
     "data": {
      "text/html": [
       "<pre style=\"font-family: monospace; white-space: pre-wrap; line-height: 1.5;\"><span style=\"background-color: rgb(0, 104, 55); color: white;\">{<br></span><span style=\"background-color: rgb(0, 104, 55); color: white;\"> </span><span style=\"background-color: rgb(0, 104, 55); color: white;\"> \"</span><span style=\"background-color: rgb(0, 104, 55); color: white;\">title</span><span style=\"background-color: rgb(0, 104, 55); color: white;\">\":</span><span style=\"background-color: rgb(0, 104, 55); color: white;\"> \"</span><span style=\"background-color: rgb(20, 141, 74); color: white;\">Brit</span><span style=\"background-color: rgb(2, 107, 56); color: white;\">s</span><span style=\"background-color: rgb(3, 109, 57); color: white;\"> Debate</span><span style=\"background-color: rgb(2, 107, 56); color: white;\"> Over</span><span style=\"background-color: rgb(0, 104, 55); color: white;\"> Urban</span><span style=\"background-color: rgb(0, 104, 55); color: white;\"> Music</span><span style=\"background-color: rgb(217, 239, 139); color: black;\">\",<br></span><span style=\"background-color: rgb(0, 104, 55); color: white;\"> </span><span style=\"background-color: rgb(0, 104, 55); color: white;\"> \"</span><span style=\"background-color: rgb(0, 104, 55); color: white;\">category</span><span style=\"background-color: rgb(0, 104, 55); color: white;\">\":</span><span style=\"background-color: rgb(0, 104, 55); color: white;\"> \"</span><span style=\"background-color: rgb(0, 104, 55); color: white;\">ent</span><span style=\"background-color: rgb(0, 104, 55); color: white;\">ertain</span><span style=\"background-color: rgb(0, 104, 55); color: white;\">ment</span><span style=\"background-color: rgb(0, 104, 55); color: white;\">\",<br></span><span style=\"background-color: rgb(0, 104, 55); color: white;\"> </span><span style=\"background-color: rgb(0, 104, 55); color: white;\"> \"</span><span style=\"background-color: rgb(0, 104, 55); color: white;\">summary</span><span style=\"background-color: rgb(0, 104, 55); color: white;\">\":</span><span style=\"background-color: rgb(0, 104, 55); color: white;\"> \"</span><span style=\"background-color: rgb(51, 164, 86); color: white;\">J</span><span style=\"background-color: rgb(0, 104, 55); color: white;\">oss</span><span style=\"background-color: rgb(0, 104, 55); color: white;\"> Stone</span><span style=\"background-color: rgb(1, 105, 55); color: white;\">,</span><span style=\"background-color: rgb(0, 104, 55); color: white;\"> a</span><span style=\"background-color: rgb(0, 104, 55); color: white;\"> </span><span style=\"background-color: rgb(0, 104, 55); color: white;\">17</span><span style=\"background-color: rgb(0, 104, 55); color: white;\">-year</span><span style=\"background-color: rgb(0, 104, 55); color: white;\">-old</span><span style=\"background-color: rgb(0, 104, 55); color: white;\"> soul</span><span style=\"background-color: rgb(0, 104, 55); color: white;\"> singer</span><span style=\"background-color: rgb(87, 181, 95); color: black;\"> from</span><span style=\"background-color: rgb(0, 104, 55); color: white;\"> Devon</span><span style=\"background-color: rgb(0, 104, 55); color: white;\">,</span><span style=\"background-color: rgb(183, 224, 117); color: black;\"> won</span><span style=\"background-color: rgb(157, 213, 105); color: black;\"> the</span><span style=\"background-color: rgb(51, 164, 86); color: white;\"> Best</span><span style=\"background-color: rgb(0, 104, 55); color: white;\"> British</span><span style=\"background-color: rgb(0, 104, 55); color: white;\"> Urban</span><span style=\"background-color: rgb(0, 104, 55); color: white;\"> Act</span><span style=\"background-color: rgb(1, 105, 55); color: white;\"> at</span><span style=\"background-color: rgb(0, 104, 55); color: white;\"> the</span><span style=\"background-color: rgb(1, 105, 55); color: white;\"> Brit</span><span style=\"background-color: rgb(0, 104, 55); color: white;\"> Awards</span><span style=\"background-color: rgb(1, 105, 55); color: white;\">,</span><span style=\"background-color: rgb(159, 214, 105); color: black;\"> spar</span><span style=\"background-color: rgb(0, 104, 55); color: white;\">king</span><span style=\"background-color: rgb(57, 167, 87); color: white;\"> a</span><span style=\"background-color: rgb(6, 115, 60); color: white;\"> debate</span><span style=\"background-color: rgb(114, 194, 100); color: black;\"> about</span><span style=\"background-color: rgb(5, 113, 59); color: white;\"> the</span><span style=\"background-color: rgb(221, 240, 145); color: black;\"> definition</span><span style=\"background-color: rgb(205, 233, 131); color: black;\"> and</span><span style=\"background-color: rgb(231, 245, 159); color: black;\"> relevance</span><span style=\"background-color: rgb(0, 104, 55); color: white;\"> of</span><span style=\"background-color: rgb(219, 240, 143); color: black;\"> urban</span><span style=\"background-color: rgb(0, 104, 55); color: white;\"> music</span><span style=\"background-color: rgb(253, 180, 102); color: black;\">.</span><span style=\"background-color: rgb(19, 139, 73); color: white;\"> Critics</span><span style=\"background-color: rgb(185, 225, 118); color: black;\"> argue</span><span style=\"background-color: rgb(96, 186, 97); color: black;\"> that</span><span style=\"background-color: rgb(6, 115, 60); color: white;\"> the</span><span style=\"background-color: rgb(2, 107, 56); color: white;\"> term</span><span style=\"background-color: rgb(193, 228, 123); color: black;\"> '</span><span style=\"background-color: rgb(0, 104, 55); color: white;\">urban</span><span style=\"background-color: rgb(0, 104, 55); color: white;\">'</span><span style=\"background-color: rgb(109, 192, 99); color: black;\"> is</span><span style=\"background-color: rgb(253, 216, 132); color: black;\"> too</span><span style=\"background-color: rgb(5, 113, 59); color: white;\"> broad</span><span style=\"background-color: rgb(1, 105, 55); color: white;\"> and</span><span style=\"background-color: rgb(254, 248, 179); color: black;\"> often</span><span style=\"background-color: rgb(254, 237, 161); color: black;\"> mis</span><span style=\"background-color: rgb(254, 244, 173); color: black;\">ap</span><span style=\"background-color: rgb(24, 149, 78); color: white;\">plied</span><span style=\"background-color: rgb(16, 134, 70); color: white;\">,</span><span style=\"background-color: rgb(252, 170, 95); color: black;\"> questioning</span><span style=\"background-color: rgb(228, 244, 155); color: black;\"> the</span><span style=\"background-color: rgb(247, 134, 78); color: black;\"> authenticity</span><span style=\"background-color: rgb(30, 154, 81); color: white;\"> of</span><span style=\"background-color: rgb(250, 152, 86); color: black;\"> Stone</span><span style=\"background-color: rgb(4, 111, 58); color: white;\">'s</span><span style=\"background-color: rgb(233, 245, 161); color: black;\"> win</span><span style=\"background-color: rgb(253, 190, 110); color: black;\"> in</span><span style=\"background-color: rgb(211, 236, 135); color: black;\"> a</span><span style=\"background-color: rgb(215, 238, 137); color: black;\"> category</span><span style=\"background-color: rgb(254, 242, 169); color: black;\"> traditionally</span><span style=\"background-color: rgb(15, 132, 69); color: white;\"> associated</span><span style=\"background-color: rgb(0, 104, 55); color: white;\"> with</span><span style=\"background-color: rgb(15, 132, 69); color: white;\"> black</span><span style=\"background-color: rgb(222, 241, 147); color: black;\"> music</span><span style=\"background-color: rgb(21, 143, 75); color: white;\">.\",<br></span><span style=\"background-color: rgb(0, 104, 55); color: white;\"> </span><span style=\"background-color: rgb(0, 104, 55); color: white;\"> \"</span><span style=\"background-color: rgb(0, 104, 55); color: white;\">length</span><span style=\"background-color: rgb(0, 104, 55); color: white;\">\":</span><span style=\"background-color: rgb(0, 104, 55); color: white;\"> </span><span style=\"background-color: rgb(170, 5, 38); color: white;\">150</span><span style=\"background-color: rgb(254, 249, 181); color: black;\">0</span><span style=\"background-color: rgb(0, 104, 55); color: white;\">,<br></span><span style=\"background-color: rgb(0, 104, 55); color: white;\"> </span><span style=\"background-color: rgb(0, 104, 55); color: white;\"> \"</span><span style=\"background-color: rgb(0, 104, 55); color: white;\">mentioned</span><span style=\"background-color: rgb(0, 104, 55); color: white;\">_entities</span><span style=\"background-color: rgb(0, 104, 55); color: white;\">\":</span><span style=\"background-color: rgb(0, 104, 55); color: white;\"> [<br></span><span style=\"background-color: rgb(0, 104, 55); color: white;\">   </span><span style=\"background-color: rgb(0, 104, 55); color: white;\"> {<br></span><span style=\"background-color: rgb(0, 104, 55); color: white;\">     </span><span style=\"background-color: rgb(0, 104, 55); color: white;\"> \"</span><span style=\"background-color: rgb(0, 104, 55); color: white;\">name</span><span style=\"background-color: rgb(0, 104, 55); color: white;\">\":</span><span style=\"background-color: rgb(0, 104, 55); color: white;\"> \"</span><span style=\"background-color: rgb(0, 104, 55); color: white;\">J</span><span style=\"background-color: rgb(0, 104, 55); color: white;\">oss</span><span style=\"background-color: rgb(0, 104, 55); color: white;\"> Stone</span><span style=\"background-color: rgb(0, 104, 55); color: white;\">\",<br></span><span style=\"background-color: rgb(0, 104, 55); color: white;\">     </span><span style=\"background-color: rgb(0, 104, 55); color: white;\"> \"</span><span style=\"background-color: rgb(0, 104, 55); color: white;\">type</span><span style=\"background-color: rgb(0, 104, 55); color: white;\">\":</span><span style=\"background-color: rgb(0, 104, 55); color: white;\"> \"</span><span style=\"background-color: rgb(0, 104, 55); color: white;\">person</span><span style=\"background-color: rgb(0, 104, 55); color: white;\">\"<br></span><span style=\"background-color: rgb(0, 104, 55); color: white;\">   </span><span style=\"background-color: rgb(0, 104, 55); color: white;\"> },<br></span><span style=\"background-color: rgb(0, 104, 55); color: white;\">   </span><span style=\"background-color: rgb(0, 104, 55); color: white;\"> {<br></span><span style=\"background-color: rgb(0, 104, 55); color: white;\">     </span><span style=\"background-color: rgb(0, 104, 55); color: white;\"> \"</span><span style=\"background-color: rgb(0, 104, 55); color: white;\">name</span><span style=\"background-color: rgb(0, 104, 55); color: white;\">\":</span><span style=\"background-color: rgb(0, 104, 55); color: white;\"> \"</span><span style=\"background-color: rgb(4, 111, 58); color: white;\">D</span><span style=\"background-color: rgb(0, 104, 55); color: white;\">iz</span><span style=\"background-color: rgb(0, 104, 55); color: white;\">zee</span><span style=\"background-color: rgb(0, 104, 55); color: white;\"> Ras</span><span style=\"background-color: rgb(0, 104, 55); color: white;\">cal</span><span style=\"background-color: rgb(0, 104, 55); color: white;\">\",<br></span><span style=\"background-color: rgb(0, 104, 55); color: white;\">     </span><span style=\"background-color: rgb(0, 104, 55); color: white;\"> \"</span><span style=\"background-color: rgb(0, 104, 55); color: white;\">type</span><span style=\"background-color: rgb(0, 104, 55); color: white;\">\":</span><span style=\"background-color: rgb(0, 104, 55); color: white;\"> \"</span><span style=\"background-color: rgb(0, 104, 55); color: white;\">person</span><span style=\"background-color: rgb(0, 104, 55); color: white;\">\"<br></span><span style=\"background-color: rgb(0, 104, 55); color: white;\">   </span><span style=\"background-color: rgb(0, 104, 55); color: white;\"> },<br></span><span style=\"background-color: rgb(0, 104, 55); color: white;\">   </span><span style=\"background-color: rgb(0, 104, 55); color: white;\"> {<br></span><span style=\"background-color: rgb(0, 104, 55); color: white;\">     </span><span style=\"background-color: rgb(0, 104, 55); color: white;\"> \"</span><span style=\"background-color: rgb(0, 104, 55); color: white;\">name</span><span style=\"background-color: rgb(0, 104, 55); color: white;\">\":</span><span style=\"background-color: rgb(0, 104, 55); color: white;\"> \"</span><span style=\"background-color: rgb(0, 104, 55); color: white;\">J</span><span style=\"background-color: rgb(0, 104, 55); color: white;\">amel</span><span style=\"background-color: rgb(0, 104, 55); color: white;\">ia</span><span style=\"background-color: rgb(0, 104, 55); color: white;\">\",<br></span><span style=\"background-color: rgb(0, 104, 55); color: white;\">     </span><span style=\"background-color: rgb(0, 104, 55); color: white;\"> \"</span><span style=\"background-color: rgb(0, 104, 55); color: white;\">type</span><span style=\"background-color: rgb(0, 104, 55); color: white;\">\":</span><span style=\"background-color: rgb(0, 104, 55); color: white;\"> \"</span><span style=\"background-color: rgb(0, 104, 55); color: white;\">person</span><span style=\"background-color: rgb(0, 104, 55); color: white;\">\"<br></span><span style=\"background-color: rgb(0, 104, 55); color: white;\">   </span><span style=\"background-color: rgb(0, 104, 55); color: white;\"> },<br></span><span style=\"background-color: rgb(0, 104, 55); color: white;\">   </span><span style=\"background-color: rgb(0, 104, 55); color: white;\"> {<br></span><span style=\"background-color: rgb(0, 104, 55); color: white;\">     </span><span style=\"background-color: rgb(0, 104, 55); color: white;\"> \"</span><span style=\"background-color: rgb(0, 104, 55); color: white;\">name</span><span style=\"background-color: rgb(0, 104, 55); color: white;\">\":</span><span style=\"background-color: rgb(0, 104, 55); color: white;\"> \"</span><span style=\"background-color: rgb(0, 104, 55); color: white;\">L</span><span style=\"background-color: rgb(0, 104, 55); color: white;\">emar</span><span style=\"background-color: rgb(0, 104, 55); color: white;\">\",<br></span><span style=\"background-color: rgb(0, 104, 55); color: white;\">     </span><span style=\"background-color: rgb(0, 104, 55); color: white;\"> \"</span><span style=\"background-color: rgb(0, 104, 55); color: white;\">type</span><span style=\"background-color: rgb(0, 104, 55); color: white;\">\":</span><span style=\"background-color: rgb(0, 104, 55); color: white;\"> \"</span><span style=\"background-color: rgb(0, 104, 55); color: white;\">person</span><span style=\"background-color: rgb(0, 104, 55); color: white;\">\"<br></span><span style=\"background-color: rgb(0, 104, 55); color: white;\">   </span><span style=\"background-color: rgb(0, 104, 55); color: white;\"> },<br></span><span style=\"background-color: rgb(0, 104, 55); color: white;\">   </span><span style=\"background-color: rgb(0, 104, 55); color: white;\"> {<br></span><span style=\"background-color: rgb(0, 104, 55); color: white;\">     </span><span style=\"background-color: rgb(0, 104, 55); color: white;\"> \"</span><span style=\"background-color: rgb(0, 104, 55); color: white;\">name</span><span style=\"background-color: rgb(0, 104, 55); color: white;\">\":</span><span style=\"background-color: rgb(0, 104, 55); color: white;\"> \"</span><span style=\"background-color: rgb(0, 104, 55); color: white;\">The</span><span style=\"background-color: rgb(0, 104, 55); color: white;\"> Streets</span><span style=\"background-color: rgb(0, 104, 55); color: white;\">\",<br></span><span style=\"background-color: rgb(0, 104, 55); color: white;\">     </span><span style=\"background-color: rgb(0, 104, 55); color: white;\"> \"</span><span style=\"background-color: rgb(0, 104, 55); color: white;\">type</span><span style=\"background-color: rgb(0, 104, 55); color: white;\">\":</span><span style=\"background-color: rgb(0, 104, 55); color: white;\"> \"</span><span style=\"background-color: rgb(2, 107, 56); color: white;\">team</span><span style=\"background-color: rgb(0, 104, 55); color: white;\">\"<br></span><span style=\"background-color: rgb(0, 104, 55); color: white;\">   </span><span style=\"background-color: rgb(7, 117, 61); color: white;\"> },<br></span><span style=\"background-color: rgb(0, 104, 55); color: white;\">   </span><span style=\"background-color: rgb(0, 104, 55); color: white;\"> {<br></span><span style=\"background-color: rgb(0, 104, 55); color: white;\">     </span><span style=\"background-color: rgb(0, 104, 55); color: white;\"> \"</span><span style=\"background-color: rgb(0, 104, 55); color: white;\">name</span><span style=\"background-color: rgb(0, 104, 55); color: white;\">\":</span><span style=\"background-color: rgb(0, 104, 55); color: white;\"> \"</span><span style=\"background-color: rgb(11, 124, 65); color: white;\">MT</span><span style=\"background-color: rgb(0, 104, 55); color: white;\">V</span><span style=\"background-color: rgb(15, 132, 69); color: white;\"> Base</span><span style=\"background-color: rgb(0, 104, 55); color: white;\">\",<br></span><span style=\"background-color: rgb(0, 104, 55); color: white;\">     </span><span style=\"background-color: rgb(0, 104, 55); color: white;\"> \"</span><span style=\"background-color: rgb(0, 104, 55); color: white;\">type</span><span style=\"background-color: rgb(0, 104, 55); color: white;\">\":</span><span style=\"background-color: rgb(0, 104, 55); color: white;\"> \"</span><span style=\"background-color: rgb(0, 104, 55); color: white;\">company</span><span style=\"background-color: rgb(0, 104, 55); color: white;\">\"<br></span><span style=\"background-color: rgb(0, 104, 55); color: white;\">   </span><span style=\"background-color: rgb(117, 195, 100); color: black;\"> },<br></span><span style=\"background-color: rgb(0, 104, 55); color: white;\">   </span><span style=\"background-color: rgb(0, 104, 55); color: white;\"> {<br></span><span style=\"background-color: rgb(0, 104, 55); color: white;\">     </span><span style=\"background-color: rgb(0, 104, 55); color: white;\"> \"</span><span style=\"background-color: rgb(0, 104, 55); color: white;\">name</span><span style=\"background-color: rgb(0, 104, 55); color: white;\">\":</span><span style=\"background-color: rgb(0, 104, 55); color: white;\"> \"</span><span style=\"background-color: rgb(237, 247, 167); color: black;\">K</span><span style=\"background-color: rgb(0, 104, 55); color: white;\">anye</span><span style=\"background-color: rgb(0, 104, 55); color: white;\"> West</span><span style=\"background-color: rgb(0, 104, 55); color: white;\">\",<br></span><span style=\"background-color: rgb(0, 104, 55); color: white;\">     </span><span style=\"background-color: rgb(0, 104, 55); color: white;\"> \"</span><span style=\"background-color: rgb(0, 104, 55); color: white;\">type</span><span style=\"background-color: rgb(0, 104, 55); color: white;\">\":</span><span style=\"background-color: rgb(0, 104, 55); color: white;\"> \"</span><span style=\"background-color: rgb(0, 104, 55); color: white;\">person</span><span style=\"background-color: rgb(0, 104, 55); color: white;\">\"<br></span><span style=\"background-color: rgb(0, 104, 55); color: white;\">   </span><span style=\"background-color: rgb(0, 104, 55); color: white;\"> },<br></span><span style=\"background-color: rgb(0, 104, 55); color: white;\">   </span><span style=\"background-color: rgb(0, 104, 55); color: white;\"> {<br></span><span style=\"background-color: rgb(0, 104, 55); color: white;\">     </span><span style=\"background-color: rgb(0, 104, 55); color: white;\"> \"</span><span style=\"background-color: rgb(0, 104, 55); color: white;\">name</span><span style=\"background-color: rgb(0, 104, 55); color: white;\">\":</span><span style=\"background-color: rgb(0, 104, 55); color: white;\"> \"</span><span style=\"background-color: rgb(0, 104, 55); color: white;\">A</span><span style=\"background-color: rgb(0, 104, 55); color: white;\">lic</span><span style=\"background-color: rgb(0, 104, 55); color: white;\">ia</span><span style=\"background-color: rgb(0, 104, 55); color: white;\"> Keys</span><span style=\"background-color: rgb(0, 104, 55); color: white;\">\",<br></span><span style=\"background-color: rgb(0, 104, 55); color: white;\">     </span><span style=\"background-color: rgb(0, 104, 55); color: white;\"> \"</span><span style=\"background-color: rgb(0, 104, 55); color: white;\">type</span><span style=\"background-color: rgb(0, 104, 55); color: white;\">\":</span><span style=\"background-color: rgb(0, 104, 55); color: white;\"> \"</span><span style=\"background-color: rgb(0, 104, 55); color: white;\">person</span><span style=\"background-color: rgb(0, 104, 55); color: white;\">\"<br></span><span style=\"background-color: rgb(0, 104, 55); color: white;\">   </span><span style=\"background-color: rgb(0, 104, 55); color: white;\"> },<br></span><span style=\"background-color: rgb(0, 104, 55); color: white;\">   </span><span style=\"background-color: rgb(0, 104, 55); color: white;\"> {<br></span><span style=\"background-color: rgb(0, 104, 55); color: white;\">     </span><span style=\"background-color: rgb(0, 104, 55); color: white;\"> \"</span><span style=\"background-color: rgb(0, 104, 55); color: white;\">name</span><span style=\"background-color: rgb(0, 104, 55); color: white;\">\":</span><span style=\"background-color: rgb(0, 104, 55); color: white;\"> \"</span><span style=\"background-color: rgb(0, 104, 55); color: white;\">Out</span><span style=\"background-color: rgb(144, 207, 103); color: black;\">kast</span><span style=\"background-color: rgb(0, 104, 55); color: white;\">\",<br></span><span style=\"background-color: rgb(0, 104, 55); color: white;\">     </span><span style=\"background-color: rgb(0, 104, 55); color: white;\"> \"</span><span style=\"background-color: rgb(0, 104, 55); color: white;\">type</span><span style=\"background-color: rgb(0, 104, 55); color: white;\">\":</span><span style=\"background-color: rgb(0, 104, 55); color: white;\"> \"</span><span style=\"background-color: rgb(0, 104, 55); color: white;\">team</span><span style=\"background-color: rgb(0, 104, 55); color: white;\">\"<br></span><span style=\"background-color: rgb(0, 104, 55); color: white;\">   </span><span style=\"background-color: rgb(162, 215, 105); color: black;\"> },<br></span><span style=\"background-color: rgb(0, 104, 55); color: white;\">   </span><span style=\"background-color: rgb(0, 104, 55); color: white;\"> {<br></span><span style=\"background-color: rgb(0, 104, 55); color: white;\">     </span><span style=\"background-color: rgb(0, 104, 55); color: white;\"> \"</span><span style=\"background-color: rgb(0, 104, 55); color: white;\">name</span><span style=\"background-color: rgb(0, 104, 55); color: white;\">\":</span><span style=\"background-color: rgb(0, 104, 55); color: white;\"> \"</span><span style=\"background-color: rgb(248, 139, 81); color: black;\">Rob</span><span style=\"background-color: rgb(0, 104, 55); color: white;\">bie</span><span style=\"background-color: rgb(0, 104, 55); color: white;\"> Williams</span><span style=\"background-color: rgb(0, 104, 55); color: white;\">\",<br></span><span style=\"background-color: rgb(0, 104, 55); color: white;\">     </span><span style=\"background-color: rgb(0, 104, 55); color: white;\"> \"</span><span style=\"background-color: rgb(0, 104, 55); color: white;\">type</span><span style=\"background-color: rgb(0, 104, 55); color: white;\">\":</span><span style=\"background-color: rgb(0, 104, 55); color: white;\"> \"</span><span style=\"background-color: rgb(0, 104, 55); color: white;\">person</span><span style=\"background-color: rgb(0, 104, 55); color: white;\">\"<br></span><span style=\"background-color: rgb(0, 104, 55); color: white;\">   </span><span style=\"background-color: rgb(243, 250, 175); color: black;\"> },<br></span><span style=\"background-color: rgb(0, 104, 55); color: white;\">   </span><span style=\"background-color: rgb(0, 104, 55); color: white;\"> {<br></span><span style=\"background-color: rgb(0, 104, 55); color: white;\">     </span><span style=\"background-color: rgb(0, 104, 55); color: white;\"> \"</span><span style=\"background-color: rgb(0, 104, 55); color: white;\">name</span><span style=\"background-color: rgb(0, 104, 55); color: white;\">\":</span><span style=\"background-color: rgb(0, 104, 55); color: white;\"> \"</span><span style=\"background-color: rgb(254, 254, 189); color: black;\">Terr</span><span style=\"background-color: rgb(0, 104, 55); color: white;\">i</span><span style=\"background-color: rgb(0, 104, 55); color: white;\"> Walker</span><span style=\"background-color: rgb(0, 104, 55); color: white;\">\",<br></span><span style=\"background-color: rgb(0, 104, 55); color: white;\">     </span><span style=\"background-color: rgb(0, 104, 55); color: white;\"> \"</span><span style=\"background-color: rgb(0, 104, 55); color: white;\">type</span><span style=\"background-color: rgb(0, 104, 55); color: white;\">\":</span><span style=\"background-color: rgb(0, 104, 55); color: white;\"> \"</span><span style=\"background-color: rgb(0, 104, 55); color: white;\">person</span><span style=\"background-color: rgb(0, 104, 55); color: white;\">\"<br></span><span style=\"background-color: rgb(0, 104, 55); color: white;\">   </span><span style=\"background-color: rgb(0, 104, 55); color: white;\"> },<br></span><span style=\"background-color: rgb(0, 104, 55); color: white;\">   </span><span style=\"background-color: rgb(0, 104, 55); color: white;\"> {<br></span><span style=\"background-color: rgb(0, 104, 55); color: white;\">     </span><span style=\"background-color: rgb(0, 104, 55); color: white;\"> \"</span><span style=\"background-color: rgb(0, 104, 55); color: white;\">name</span><span style=\"background-color: rgb(0, 104, 55); color: white;\">\":</span><span style=\"background-color: rgb(0, 104, 55); color: white;\"> \"</span><span style=\"background-color: rgb(0, 104, 55); color: white;\">Rh</span><span style=\"background-color: rgb(0, 104, 55); color: white;\">ian</span><span style=\"background-color: rgb(0, 104, 55); color: white;\"> Benson</span><span style=\"background-color: rgb(0, 104, 55); color: white;\">\",<br></span><span style=\"background-color: rgb(0, 104, 55); color: white;\">     </span><span style=\"background-color: rgb(0, 104, 55); color: white;\"> \"</span><span style=\"background-color: rgb(0, 104, 55); color: white;\">type</span><span style=\"background-color: rgb(0, 104, 55); color: white;\">\":</span><span style=\"background-color: rgb(0, 104, 55); color: white;\"> \"</span><span style=\"background-color: rgb(0, 104, 55); color: white;\">person</span><span style=\"background-color: rgb(0, 104, 55); color: white;\">\"<br></span><span style=\"background-color: rgb(0, 104, 55); color: white;\">   </span><span style=\"background-color: rgb(162, 215, 105); color: black;\"> },<br></span><span style=\"background-color: rgb(0, 104, 55); color: white;\">   </span><span style=\"background-color: rgb(0, 104, 55); color: white;\"> {<br></span><span style=\"background-color: rgb(0, 104, 55); color: white;\">     </span><span style=\"background-color: rgb(0, 104, 55); color: white;\"> \"</span><span style=\"background-color: rgb(0, 104, 55); color: white;\">name</span><span style=\"background-color: rgb(0, 104, 55); color: white;\">\":</span><span style=\"background-color: rgb(0, 104, 55); color: white;\"> \"</span><span style=\"background-color: rgb(134, 203, 102); color: black;\">Amy</span><span style=\"background-color: rgb(0, 104, 55); color: white;\"> Wine</span><span style=\"background-color: rgb(0, 104, 55); color: white;\">house</span><span style=\"background-color: rgb(0, 104, 55); color: white;\">\",<br></span><span style=\"background-color: rgb(0, 104, 55); color: white;\">     </span><span style=\"background-color: rgb(0, 104, 55); color: white;\"> \"</span><span style=\"background-color: rgb(0, 104, 55); color: white;\">type</span><span style=\"background-color: rgb(0, 104, 55); color: white;\">\":</span><span style=\"background-color: rgb(0, 104, 55); color: white;\"> \"</span><span style=\"background-color: rgb(0, 104, 55); color: white;\">person</span><span style=\"background-color: rgb(0, 104, 55); color: white;\">\"<br></span><span style=\"background-color: rgb(0, 104, 55); color: white;\">   </span><span style=\"background-color: rgb(191, 227, 122); color: black;\"> }<br></span><span style=\"background-color: rgb(0, 104, 55); color: white;\"> </span><span style=\"background-color: rgb(0, 104, 55); color: white;\"> ]<br></span><span style=\"background-color: rgb(0, 104, 55); color: white;\">}<br></span></pre><div style=\"margin-top: 20px; font-family: sans-serif;\"><p><b>Token Probability Legend:</b></p><div style=\"display: flex; width: 300px; height: 30px;\"><div style=\"flex: 1; height: 100%; background-color: rgb(165, 0, 38);\"></div><div style=\"flex: 1; height: 100%; background-color: rgb(214, 47, 38);\"></div><div style=\"flex: 1; height: 100%; background-color: rgb(244, 109, 67);\"></div><div style=\"flex: 1; height: 100%; background-color: rgb(252, 172, 96);\"></div><div style=\"flex: 1; height: 100%; background-color: rgb(254, 224, 139);\"></div><div style=\"flex: 1; height: 100%; background-color: rgb(254, 254, 189);\"></div><div style=\"flex: 1; height: 100%; background-color: rgb(217, 239, 139);\"></div><div style=\"flex: 1; height: 100%; background-color: rgb(164, 216, 105);\"></div><div style=\"flex: 1; height: 100%; background-color: rgb(102, 189, 99);\"></div><div style=\"flex: 1; height: 100%; background-color: rgb(25, 151, 79);\"></div></div><div style=\"display: flex; width: 300px; justify-content: space-between;\"><span>0.0</span><span>0.5</span><span>1.0</span></div></div>"
      ],
      "text/plain": [
       "<IPython.core.display.HTML object>"
      ]
     },
     "metadata": {},
     "output_type": "display_data"
    }
   ],
   "source": [
    "response = generate_and_visualize_json(6)\n"
   ]
  },
  {
   "cell_type": "code",
   "execution_count": 13,
   "id": "fef36e8c",
   "metadata": {
    "slideshow": {
     "slide_type": "slide"
    }
   },
   "outputs": [
    {
     "data": {
      "text/html": [
       "<pre style=\"font-family: monospace; white-space: pre-wrap; line-height: 1.5;\"><span style=\"background-color: rgb(0, 104, 55); color: white;\">{<br></span><span style=\"background-color: rgb(0, 104, 55); color: white;\"> </span><span style=\"background-color: rgb(0, 104, 55); color: white;\"> \"</span><span style=\"background-color: rgb(0, 104, 55); color: white;\">title</span><span style=\"background-color: rgb(0, 104, 55); color: white;\">\":</span><span style=\"background-color: rgb(0, 104, 55); color: white;\"> \"</span><span style=\"background-color: rgb(2, 107, 56); color: white;\">Broad</span><span style=\"background-color: rgb(0, 104, 55); color: white;\">band</span><span style=\"background-color: rgb(1, 105, 55); color: white;\"> Set</span><span style=\"background-color: rgb(0, 104, 55); color: white;\"> to</span><span style=\"background-color: rgb(0, 104, 55); color: white;\"> Revolution</span><span style=\"background-color: rgb(0, 104, 55); color: white;\">ise</span><span style=\"background-color: rgb(0, 104, 55); color: white;\"> TV</span><span style=\"background-color: rgb(0, 104, 55); color: white;\">\",<br></span><span style=\"background-color: rgb(0, 104, 55); color: white;\"> </span><span style=\"background-color: rgb(0, 104, 55); color: white;\"> \"</span><span style=\"background-color: rgb(0, 104, 55); color: white;\">category</span><span style=\"background-color: rgb(0, 104, 55); color: white;\">\":</span><span style=\"background-color: rgb(0, 104, 55); color: white;\"> \"</span><span style=\"background-color: rgb(0, 104, 55); color: white;\">tech</span><span style=\"background-color: rgb(0, 104, 55); color: white;\">\",<br></span><span style=\"background-color: rgb(0, 104, 55); color: white;\"> </span><span style=\"background-color: rgb(0, 104, 55); color: white;\"> \"</span><span style=\"background-color: rgb(0, 104, 55); color: white;\">summary</span><span style=\"background-color: rgb(0, 104, 55); color: white;\">\":</span><span style=\"background-color: rgb(0, 104, 55); color: white;\"> \"</span><span style=\"background-color: rgb(0, 104, 55); color: white;\">BT</span><span style=\"background-color: rgb(0, 104, 55); color: white;\"> is</span><span style=\"background-color: rgb(11, 124, 65); color: white;\"> starting</span><span style=\"background-color: rgb(3, 109, 57); color: white;\"> its</span><span style=\"background-color: rgb(0, 104, 55); color: white;\"> push</span><span style=\"background-color: rgb(0, 104, 55); color: white;\"> into</span><span style=\"background-color: rgb(0, 104, 55); color: white;\"> television</span><span style=\"background-color: rgb(63, 170, 89); color: black;\"> with</span><span style=\"background-color: rgb(0, 104, 55); color: white;\"> plans</span><span style=\"background-color: rgb(0, 104, 55); color: white;\"> to</span><span style=\"background-color: rgb(0, 104, 55); color: white;\"> offer</span><span style=\"background-color: rgb(0, 104, 55); color: white;\"> TV</span><span style=\"background-color: rgb(0, 104, 55); color: white;\"> over</span><span style=\"background-color: rgb(0, 104, 55); color: white;\"> broadband</span><span style=\"background-color: rgb(137, 204, 102); color: black;\">,</span><span style=\"background-color: rgb(234, 246, 163); color: black;\"> moving</span><span style=\"background-color: rgb(246, 251, 179); color: black;\"> towards</span><span style=\"background-color: rgb(0, 104, 55); color: white;\"> a</span><span style=\"background-color: rgb(0, 104, 55); color: white;\"> content</span><span style=\"background-color: rgb(0, 104, 55); color: white;\"> distribution</span><span style=\"background-color: rgb(0, 104, 55); color: white;\"> strategy</span><span style=\"background-color: rgb(84, 180, 94); color: black;\">.</span><span style=\"background-color: rgb(57, 167, 87); color: white;\"> The</span><span style=\"background-color: rgb(5, 113, 59); color: white;\"> BBC</span><span style=\"background-color: rgb(0, 104, 55); color: white;\"> is</span><span style=\"background-color: rgb(5, 113, 59); color: white;\"> also</span><span style=\"background-color: rgb(2, 107, 56); color: white;\"> trial</span><span style=\"background-color: rgb(3, 109, 57); color: white;\">ling</span><span style=\"background-color: rgb(12, 126, 66); color: white;\"> a</span><span style=\"background-color: rgb(154, 212, 104); color: black;\"> service</span><span style=\"background-color: rgb(93, 184, 96); color: black;\"> to</span><span style=\"background-color: rgb(25, 151, 79); color: white;\"> play</span><span style=\"background-color: rgb(17, 136, 71); color: white;\"> programmes</span><span style=\"background-color: rgb(0, 104, 55); color: white;\"> over</span><span style=\"background-color: rgb(0, 104, 55); color: white;\"> the</span><span style=\"background-color: rgb(39, 158, 83); color: white;\"> net</span><span style=\"background-color: rgb(254, 245, 175); color: black;\">,</span><span style=\"background-color: rgb(251, 162, 91); color: black;\"> aiming</span><span style=\"background-color: rgb(19, 139, 73); color: white;\"> to</span><span style=\"background-color: rgb(254, 248, 179); color: black;\"> innovate</span><span style=\"background-color: rgb(211, 236, 135); color: black;\"> with</span><span style=\"background-color: rgb(25, 151, 79); color: white;\"> IPTV</span><span style=\"background-color: rgb(154, 212, 104); color: black;\"> technology</span><span style=\"background-color: rgb(251, 165, 92); color: black;\">.\",<br></span><span style=\"background-color: rgb(0, 104, 55); color: white;\"> </span><span style=\"background-color: rgb(0, 104, 55); color: white;\"> \"</span><span style=\"background-color: rgb(0, 104, 55); color: white;\">length</span><span style=\"background-color: rgb(0, 104, 55); color: white;\">\":</span><span style=\"background-color: rgb(0, 104, 55); color: white;\"> </span><span style=\"background-color: rgb(180, 15, 38); color: white;\">102</span><span style=\"background-color: rgb(225, 70, 49); color: white;\">5</span><span style=\"background-color: rgb(0, 104, 55); color: white;\">,<br></span><span style=\"background-color: rgb(0, 104, 55); color: white;\"> </span><span style=\"background-color: rgb(0, 104, 55); color: white;\"> \"</span><span style=\"background-color: rgb(0, 104, 55); color: white;\">mentioned</span><span style=\"background-color: rgb(0, 104, 55); color: white;\">_entities</span><span style=\"background-color: rgb(0, 104, 55); color: white;\">\":</span><span style=\"background-color: rgb(0, 104, 55); color: white;\"> [<br></span><span style=\"background-color: rgb(0, 104, 55); color: white;\">   </span><span style=\"background-color: rgb(0, 104, 55); color: white;\"> {<br></span><span style=\"background-color: rgb(0, 104, 55); color: white;\">     </span><span style=\"background-color: rgb(0, 104, 55); color: white;\"> \"</span><span style=\"background-color: rgb(0, 104, 55); color: white;\">name</span><span style=\"background-color: rgb(0, 104, 55); color: white;\">\":</span><span style=\"background-color: rgb(0, 104, 55); color: white;\"> \"</span><span style=\"background-color: rgb(0, 104, 55); color: white;\">BT</span><span style=\"background-color: rgb(0, 104, 55); color: white;\">\",<br></span><span style=\"background-color: rgb(0, 104, 55); color: white;\">     </span><span style=\"background-color: rgb(0, 104, 55); color: white;\"> \"</span><span style=\"background-color: rgb(0, 104, 55); color: white;\">type</span><span style=\"background-color: rgb(0, 104, 55); color: white;\">\":</span><span style=\"background-color: rgb(0, 104, 55); color: white;\"> \"</span><span style=\"background-color: rgb(0, 104, 55); color: white;\">company</span><span style=\"background-color: rgb(0, 104, 55); color: white;\">\"<br></span><span style=\"background-color: rgb(0, 104, 55); color: white;\">   </span><span style=\"background-color: rgb(0, 104, 55); color: white;\"> },<br></span><span style=\"background-color: rgb(0, 104, 55); color: white;\">   </span><span style=\"background-color: rgb(0, 104, 55); color: white;\"> {<br></span><span style=\"background-color: rgb(0, 104, 55); color: white;\">     </span><span style=\"background-color: rgb(0, 104, 55); color: white;\"> \"</span><span style=\"background-color: rgb(0, 104, 55); color: white;\">name</span><span style=\"background-color: rgb(0, 104, 55); color: white;\">\":</span><span style=\"background-color: rgb(0, 104, 55); color: white;\"> \"</span><span style=\"background-color: rgb(39, 158, 83); color: white;\">BBC</span><span style=\"background-color: rgb(0, 104, 55); color: white;\">\",<br></span><span style=\"background-color: rgb(0, 104, 55); color: white;\">     </span><span style=\"background-color: rgb(0, 104, 55); color: white;\"> \"</span><span style=\"background-color: rgb(0, 104, 55); color: white;\">type</span><span style=\"background-color: rgb(0, 104, 55); color: white;\">\":</span><span style=\"background-color: rgb(0, 104, 55); color: white;\"> \"</span><span style=\"background-color: rgb(0, 104, 55); color: white;\">company</span><span style=\"background-color: rgb(0, 104, 55); color: white;\">\"<br></span><span style=\"background-color: rgb(0, 104, 55); color: white;\">   </span><span style=\"background-color: rgb(0, 104, 55); color: white;\"> },<br></span><span style=\"background-color: rgb(0, 104, 55); color: white;\">   </span><span style=\"background-color: rgb(0, 104, 55); color: white;\"> {<br></span><span style=\"background-color: rgb(0, 104, 55); color: white;\">     </span><span style=\"background-color: rgb(0, 104, 55); color: white;\"> \"</span><span style=\"background-color: rgb(0, 104, 55); color: white;\">name</span><span style=\"background-color: rgb(0, 104, 55); color: white;\">\":</span><span style=\"background-color: rgb(0, 104, 55); color: white;\"> \"</span><span style=\"background-color: rgb(30, 154, 81); color: white;\">Andrew</span><span style=\"background-color: rgb(0, 104, 55); color: white;\"> Burke</span><span style=\"background-color: rgb(0, 104, 55); color: white;\">\",<br></span><span style=\"background-color: rgb(0, 104, 55); color: white;\">     </span><span style=\"background-color: rgb(0, 104, 55); color: white;\"> \"</span><span style=\"background-color: rgb(0, 104, 55); color: white;\">type</span><span style=\"background-color: rgb(0, 104, 55); color: white;\">\":</span><span style=\"background-color: rgb(0, 104, 55); color: white;\"> \"</span><span style=\"background-color: rgb(0, 104, 55); color: white;\">person</span><span style=\"background-color: rgb(0, 104, 55); color: white;\">\"<br></span><span style=\"background-color: rgb(0, 104, 55); color: white;\">   </span><span style=\"background-color: rgb(0, 104, 55); color: white;\"> },<br></span><span style=\"background-color: rgb(0, 104, 55); color: white;\">   </span><span style=\"background-color: rgb(0, 104, 55); color: white;\"> {<br></span><span style=\"background-color: rgb(0, 104, 55); color: white;\">     </span><span style=\"background-color: rgb(0, 104, 55); color: white;\"> \"</span><span style=\"background-color: rgb(0, 104, 55); color: white;\">name</span><span style=\"background-color: rgb(0, 104, 55); color: white;\">\":</span><span style=\"background-color: rgb(0, 104, 55); color: white;\"> \"</span><span style=\"background-color: rgb(13, 128, 67); color: white;\">Rah</span><span style=\"background-color: rgb(0, 104, 55); color: white;\">ul</span><span style=\"background-color: rgb(0, 104, 55); color: white;\"> Ch</span><span style=\"background-color: rgb(0, 104, 55); color: white;\">akk</span><span style=\"background-color: rgb(0, 104, 55); color: white;\">ara</span><span style=\"background-color: rgb(0, 104, 55); color: white;\">\",<br></span><span style=\"background-color: rgb(0, 104, 55); color: white;\">     </span><span style=\"background-color: rgb(0, 104, 55); color: white;\"> \"</span><span style=\"background-color: rgb(0, 104, 55); color: white;\">type</span><span style=\"background-color: rgb(0, 104, 55); color: white;\">\":</span><span style=\"background-color: rgb(0, 104, 55); color: white;\"> \"</span><span style=\"background-color: rgb(0, 104, 55); color: white;\">person</span><span style=\"background-color: rgb(0, 104, 55); color: white;\">\"<br></span><span style=\"background-color: rgb(0, 104, 55); color: white;\">   </span><span style=\"background-color: rgb(0, 104, 55); color: white;\"> },<br></span><span style=\"background-color: rgb(0, 104, 55); color: white;\">   </span><span style=\"background-color: rgb(0, 104, 55); color: white;\"> {<br></span><span style=\"background-color: rgb(0, 104, 55); color: white;\">     </span><span style=\"background-color: rgb(0, 104, 55); color: white;\"> \"</span><span style=\"background-color: rgb(0, 104, 55); color: white;\">name</span><span style=\"background-color: rgb(0, 104, 55); color: white;\">\":</span><span style=\"background-color: rgb(0, 104, 55); color: white;\"> \"</span><span style=\"background-color: rgb(243, 250, 175); color: black;\">Of</span><span style=\"background-color: rgb(0, 104, 55); color: white;\">com</span><span style=\"background-color: rgb(0, 104, 55); color: white;\">\",<br></span><span style=\"background-color: rgb(0, 104, 55); color: white;\">     </span><span style=\"background-color: rgb(0, 104, 55); color: white;\"> \"</span><span style=\"background-color: rgb(0, 104, 55); color: white;\">type</span><span style=\"background-color: rgb(0, 104, 55); color: white;\">\":</span><span style=\"background-color: rgb(0, 104, 55); color: white;\"> \"</span><span style=\"background-color: rgb(209, 235, 133); color: black;\">company</span><span style=\"background-color: rgb(0, 104, 55); color: white;\">\"<br></span><span style=\"background-color: rgb(0, 104, 55); color: white;\">   </span><span style=\"background-color: rgb(0, 104, 55); color: white;\"> },<br></span><span style=\"background-color: rgb(0, 104, 55); color: white;\">   </span><span style=\"background-color: rgb(0, 104, 55); color: white;\"> {<br></span><span style=\"background-color: rgb(0, 104, 55); color: white;\">     </span><span style=\"background-color: rgb(0, 104, 55); color: white;\"> \"</span><span style=\"background-color: rgb(0, 104, 55); color: white;\">name</span><span style=\"background-color: rgb(0, 104, 55); color: white;\">\":</span><span style=\"background-color: rgb(0, 104, 55); color: white;\"> \"</span><span style=\"background-color: rgb(252, 254, 187); color: black;\">Th</span><span style=\"background-color: rgb(0, 104, 55); color: white;\">ales</span><span style=\"background-color: rgb(0, 104, 55); color: white;\">\",<br></span><span style=\"background-color: rgb(0, 104, 55); color: white;\">     </span><span style=\"background-color: rgb(0, 104, 55); color: white;\"> \"</span><span style=\"background-color: rgb(0, 104, 55); color: white;\">type</span><span style=\"background-color: rgb(0, 104, 55); color: white;\">\":</span><span style=\"background-color: rgb(0, 104, 55); color: white;\"> \"</span><span style=\"background-color: rgb(0, 104, 55); color: white;\">company</span><span style=\"background-color: rgb(0, 104, 55); color: white;\">\"<br></span><span style=\"background-color: rgb(0, 104, 55); color: white;\">   </span><span style=\"background-color: rgb(243, 250, 175); color: black;\"> },<br></span><span style=\"background-color: rgb(0, 104, 55); color: white;\">   </span><span style=\"background-color: rgb(0, 104, 55); color: white;\"> {<br></span><span style=\"background-color: rgb(0, 104, 55); color: white;\">     </span><span style=\"background-color: rgb(0, 104, 55); color: white;\"> \"</span><span style=\"background-color: rgb(0, 104, 55); color: white;\">name</span><span style=\"background-color: rgb(0, 104, 55); color: white;\">\":</span><span style=\"background-color: rgb(0, 104, 55); color: white;\"> \"</span><span style=\"background-color: rgb(254, 248, 179); color: black;\">Europe</span><span style=\"background-color: rgb(0, 104, 55); color: white;\">\",<br></span><span style=\"background-color: rgb(0, 104, 55); color: white;\">     </span><span style=\"background-color: rgb(0, 104, 55); color: white;\"> \"</span><span style=\"background-color: rgb(0, 104, 55); color: white;\">type</span><span style=\"background-color: rgb(0, 104, 55); color: white;\">\":</span><span style=\"background-color: rgb(0, 104, 55); color: white;\"> \"</span><span style=\"background-color: rgb(189, 226, 120); color: black;\">country</span><span style=\"background-color: rgb(0, 104, 55); color: white;\">\"<br></span><span style=\"background-color: rgb(0, 104, 55); color: white;\">   </span><span style=\"background-color: rgb(2, 107, 56); color: white;\"> },<br></span><span style=\"background-color: rgb(0, 104, 55); color: white;\">   </span><span style=\"background-color: rgb(0, 104, 55); color: white;\"> {<br></span><span style=\"background-color: rgb(0, 104, 55); color: white;\">     </span><span style=\"background-color: rgb(0, 104, 55); color: white;\"> \"</span><span style=\"background-color: rgb(0, 104, 55); color: white;\">name</span><span style=\"background-color: rgb(0, 104, 55); color: white;\">\":</span><span style=\"background-color: rgb(0, 104, 55); color: white;\"> \"</span><span style=\"background-color: rgb(10, 122, 64); color: white;\">UK</span><span style=\"background-color: rgb(0, 104, 55); color: white;\">\",<br></span><span style=\"background-color: rgb(0, 104, 55); color: white;\">     </span><span style=\"background-color: rgb(0, 104, 55); color: white;\"> \"</span><span style=\"background-color: rgb(0, 104, 55); color: white;\">type</span><span style=\"background-color: rgb(0, 104, 55); color: white;\">\":</span><span style=\"background-color: rgb(0, 104, 55); color: white;\"> \"</span><span style=\"background-color: rgb(0, 104, 55); color: white;\">country</span><span style=\"background-color: rgb(0, 104, 55); color: white;\">\"<br></span><span style=\"background-color: rgb(0, 104, 55); color: white;\">   </span><span style=\"background-color: rgb(75, 175, 92); color: black;\"> }<br></span><span style=\"background-color: rgb(0, 104, 55); color: white;\"> </span><span style=\"background-color: rgb(0, 104, 55); color: white;\"> ]<br></span><span style=\"background-color: rgb(0, 104, 55); color: white;\">}<br></span></pre><div style=\"margin-top: 20px; font-family: sans-serif;\"><p><b>Token Probability Legend:</b></p><div style=\"display: flex; width: 300px; height: 30px;\"><div style=\"flex: 1; height: 100%; background-color: rgb(165, 0, 38);\"></div><div style=\"flex: 1; height: 100%; background-color: rgb(214, 47, 38);\"></div><div style=\"flex: 1; height: 100%; background-color: rgb(244, 109, 67);\"></div><div style=\"flex: 1; height: 100%; background-color: rgb(252, 172, 96);\"></div><div style=\"flex: 1; height: 100%; background-color: rgb(254, 224, 139);\"></div><div style=\"flex: 1; height: 100%; background-color: rgb(254, 254, 189);\"></div><div style=\"flex: 1; height: 100%; background-color: rgb(217, 239, 139);\"></div><div style=\"flex: 1; height: 100%; background-color: rgb(164, 216, 105);\"></div><div style=\"flex: 1; height: 100%; background-color: rgb(102, 189, 99);\"></div><div style=\"flex: 1; height: 100%; background-color: rgb(25, 151, 79);\"></div></div><div style=\"display: flex; width: 300px; justify-content: space-between;\"><span>0.0</span><span>0.5</span><span>1.0</span></div></div>"
      ],
      "text/plain": [
       "<IPython.core.display.HTML object>"
      ]
     },
     "metadata": {},
     "output_type": "display_data"
    }
   ],
   "source": [
    "response = generate_and_visualize_json(10)"
   ]
  },
  {
   "cell_type": "markdown",
   "id": "28563ec2",
   "metadata": {},
   "source": [
    "\n",
    "## Create LLM Prompt\n",
    "\n",
    "This prompt injects the JSON schema that was generated as well as a news article to analyze."
   ]
  },
  {
   "cell_type": "code",
   "execution_count": null,
   "id": "8c6ad1f8",
   "metadata": {},
   "outputs": [],
   "source": [
    "STRUCTURED_EXTRACTION_PROMPT = \"\"\"\n",
    "Read the news article below and extract the information into a\n",
    "JSON object. \n",
    "\n",
    "Here is the news article to generate the JSON data for. The article\n",
    "is surrounded by triple backticks.\n",
    "\n",
    "```\n",
    "{news_article}\n",
    "```\n",
    "\n",
    "\"\"\""
   ]
  },
  {
   "cell_type": "markdown",
   "id": "53d0bf80",
   "metadata": {},
   "source": [
    "## Run Evaluation\n",
    "\n",
    "Run an evaluation for all models in `model_names`. The criteria for passing is if the output text can be parsed into a `NewsArticle` object.\n",
    "\n",
    "If this notebook is being run in Github Codespaces, you'll need to set `OPENAI_API_KEY` as a codespace secret in user settings. If it's being run locally then you'll need to set the environment variable `OPENAI_API_KEY`."
   ]
  },
  {
   "cell_type": "code",
   "execution_count": null,
   "id": "98f1dbe5",
   "metadata": {},
   "outputs": [],
   "source": [
    "async def extract_article_data(article: str, model_name: str, client: AsyncOpenAI, semaphore: asyncio.Semaphore) -> bool:\n",
    "    \"\"\"Returns true if JSON is appropriately formatted\"\"\"\n",
    "\n",
    "    formatted_prompt = STRUCTURED_EXTRACTION_PROMPT.format(news_article=article)\n",
    "\n",
    "    async with semaphore:\n",
    "        response = await client.beta.chat.completions.parse(\n",
    "            model=model_name,\n",
    "            messages=[{\"role\": \"user\", \"content\": formatted_prompt}],\n",
    "            temperature=0.0,\n",
    "            response_format = NewsArticle\n",
    "        )\n",
    "\n",
    "        news_article = response.choices[0].message.parsed\n",
    "        return isinstance(news_article, NewsArticle)"
   ]
  },
  {
   "cell_type": "code",
   "execution_count": null,
   "id": "b98c5606",
   "metadata": {},
   "outputs": [
    {
     "data": {
      "application/vnd.jupyter.widget-view+json": {
       "model_id": "b7a408e40fc54778863ec1f0e465a35d",
       "version_major": 2,
       "version_minor": 0
      },
      "text/plain": [
       "  0%|          | 0/100 [00:00<?, ?it/s]"
      ]
     },
     "metadata": {},
     "output_type": "display_data"
    },
    {
     "name": "stdout",
     "output_type": "stream",
     "text": [
      "For gpt-4o-mini successfully validated 100 of 100 records\n"
     ]
    }
   ],
   "source": [
    "openai_client = AsyncOpenAI()\n",
    "\n",
    "ARTICLE_COUNT = 100\n",
    "MAX_CONCURRENT_TASKS = 4\n",
    "loop_semaphore = asyncio.Semaphore(MAX_CONCURRENT_TASKS)\n",
    "\n",
    "success_count = 0\n",
    "model_names=[\"gpt-4o-mini\"]\n",
    "# model_names=[\"gpt-3.5-turbo\", \"gpt-4-turbo\", \"gpt-4o-mini\"]\n",
    "\n",
    "results = defaultdict(list)\n",
    "for model_name in model_names:\n",
    "    tasks = [extract_article_data(article, model_name, openai_client, loop_semaphore) for article in combined_df['text'][:ARTICLE_COUNT]]\n",
    "\n",
    "    for f in tqdm(asyncio.as_completed(tasks), total=len(tasks)):\n",
    "        results[model_name].append(await f)\n",
    "        \n",
    "    success_count = sum(1 for result in results[model_name] if result)\n",
    "    print(f\"For {model_name} successfully validated {success_count} of {ARTICLE_COUNT} records\")"
   ]
  },
  {
   "cell_type": "markdown",
   "id": "6396d91c",
   "metadata": {},
   "source": [
    "## Display Results"
   ]
  },
  {
   "cell_type": "code",
   "execution_count": null,
   "id": "3ca3e54f",
   "metadata": {},
   "outputs": [],
   "source": [
    "model_success_rates = {}\n",
    "for model_name, results_list in results.items():\n",
    "    success_count = sum(1 for result in results_list if result)\n",
    "    success_rate = (success_count / len(results_list)) * 100\n",
    "    model_success_rates[model_name] = success_rate\n"
   ]
  },
  {
   "cell_type": "code",
   "execution_count": null,
   "id": "39305077",
   "metadata": {},
   "outputs": [
    {
     "data": {
      "image/png": "[encoded data removed]",
      "text/plain": [
       "<Figure size 1000x600 with 1 Axes>"
      ]
     },
     "metadata": {},
     "output_type": "display_data"
    }
   ],
   "source": [
    "\n",
    "models = list(results.keys())\n",
    "success_rates = [model_success_rates[model] for model in models]\n",
    "\n",
    "plt.figure(figsize=(10, 6))\n",
    "bars = plt.bar(models, success_rates, color=['#5DA5DA', '#FAA43A', '#60BD68'])\n",
    "\n",
    "plt.xlabel('Model')\n",
    "plt.ylabel('Success Rate (%)')\n",
    "plt.title('JSON Extraction Success Rate by Model')\n",
    "plt.ylim(0, 100)\n",
    "\n",
    "plt.grid(axis='y', linestyle='--', alpha=0.7)\n",
    "plt.tight_layout()\n",
    "plt.show()"
   ]
  },
  {
   "cell_type": "markdown",
   "id": "470c7fce",
   "metadata": {},
   "source": []
  }
 ],
 "metadata": {
  "kernelspec": {
   "display_name": "Python 3",
   "language": "python",
   "name": "python3"
  },
  "language_info": {
   "codemirror_mode": {
    "name": "ipython",
    "version": 3
   },
   "file_extension": ".py",
   "mimetype": "text/x-python",
   "name": "python",
   "nbconvert_exporter": "python",
   "pygments_lexer": "ipython3",
   "version": "3.12.1"
  },
  "rise": {
   "scroll": true
  }
 },
 "nbformat": 4,
 "nbformat_minor": 5
}
