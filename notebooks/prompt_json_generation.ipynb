{
 "cells": [
  {
   "cell_type": "code",
   "execution_count": null,
   "id": "a15eacec",
   "metadata": {},
   "outputs": [],
   "source": [
    "import datasets\n",
    "import pandas as pd\n"
   ]
  },
  {
   "cell_type": "code",
   "execution_count": null,
   "id": "f0b59029",
   "metadata": {},
   "outputs": [],
   "source": [
    "\n",
    "dataset = datasets.load_dataset(\"SetFit/bbc-news\")\n",
    "\n",
    "train_df = pd.DataFrame(dataset['train'])\n",
    "test_df = pd.DataFrame(dataset['test'])\n",
    "combined_df = pd.concat([train_df, test_df])\n",
    "\n",
    "print(\"Dataset Overview:\")\n",
    "print(f\"Dataset size: {len(combined_df)}\")\n",
    "print(\"\\nLabel distribution in training set:\")\n",
    "print(combined_df['label'].value_counts())\n",
    "print(\"\\nSample text from training set:\")\n",
    "print(combined_df['text'].iloc[0][:500])\n",
    "\n",
    "categories = dataset['train'].features['label_text'].names\n",
    "print(\"\\nCategories:\", categories)\n",
    "\n",
    "train_df['text_length'] = train_df['text'].str.len()\n",
    "print(f\"\\nText length mean: {train_df['text_length'].mean():.2f}\")"
   ]
  },
  {
   "cell_type": "code",
   "execution_count": null,
   "id": "2fa3bc19",
   "metadata": {},
   "outputs": [],
   "source": []
  }
 ],
 "metadata": {
  "kernelspec": {
   "display_name": "Python 3",
   "language": "python",
   "name": "python3"
  },
  "language_info": {
   "codemirror_mode": {
    "name": "ipython",
    "version": 3
   },
   "file_extension": ".py",
   "mimetype": "text/x-python",
   "name": "python",
   "nbconvert_exporter": "python",
   "pygments_lexer": "ipython3",
   "version": "3.12.1"
  }
 },
 "nbformat": 4,
 "nbformat_minor": 5
}
