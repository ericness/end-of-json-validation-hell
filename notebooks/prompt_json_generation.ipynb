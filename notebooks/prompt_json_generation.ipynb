{
 "cells": [
  {
   "cell_type": "code",
   "execution_count": 17,
   "id": "a15eacec",
   "metadata": {},
   "outputs": [],
   "source": [
    "from enum import StrEnum\n",
    "import json\n",
    "\n",
    "from datasets import load_dataset\n",
    "from openai import OpenAI\n",
    "import pandas as pd\n",
    "from pydantic import BaseModel, Field, ValidationError\n"
   ]
  },
  {
   "cell_type": "code",
   "execution_count": 2,
   "id": "f0b59029",
   "metadata": {},
   "outputs": [
    {
     "name": "stdout",
     "output_type": "stream",
     "text": [
      "Dataset Overview:\n",
      "Dataset size: 2225\n",
      "\n",
      "Label distribution in training set:\n",
      "label_text\n",
      "sport            511\n",
      "business         510\n",
      "politics         417\n",
      "tech             401\n",
      "entertainment    386\n",
      "Name: count, dtype: int64\n",
      "\n",
      "Sample text from training set:\n",
      "wales want rugby league training wales could follow england s lead by training with a rugby league club.  england have already had a three-day session with leeds rhinos  and wales are thought to be in\n",
      "\n",
      "Text length mean: 2288.95\n"
     ]
    }
   ],
   "source": [
    "\n",
    "dataset = load_dataset(\"SetFit/bbc-news\")\n",
    "\n",
    "train_df = pd.DataFrame(dataset['train'])\n",
    "test_df = pd.DataFrame(dataset['test'])\n",
    "combined_df = pd.concat([train_df, test_df])\n",
    "\n",
    "print(\"Dataset Overview:\")\n",
    "print(f\"Dataset size: {len(combined_df)}\")\n",
    "print(\"\\nLabel distribution in training set:\")\n",
    "print(combined_df['label_text'].value_counts())\n",
    "print(\"\\nSample text from training set:\")\n",
    "print(combined_df['text'].iloc[0][:200])\n",
    "\n",
    "train_df['text_length'] = train_df['text'].str.len()\n",
    "print(f\"\\nText length mean: {train_df['text_length'].mean():.2f}\")"
   ]
  },
  {
   "cell_type": "code",
   "execution_count": 3,
   "id": "907347d1",
   "metadata": {},
   "outputs": [],
   "source": [
    "class ArticleCategory(StrEnum):\n",
    "    BUSINESS = \"business\"\n",
    "    ENTERTAINMENT = \"entertainment\"\n",
    "    POLITICS = \"politics\"\n",
    "    SPORT = \"sport\"\n",
    "    TECH = \"tech\"\n",
    "\n",
    "class NamedEntityType(StrEnum):\n",
    "    COMPANY = \"company\"\n",
    "    COUNTRY = \"country\"\n",
    "    LOCATION = \"location\"\n",
    "    PERSON = \"person\"\n",
    "\n",
    "class NamedEntity(BaseModel):\n",
    "    name: str = Field(description=\"Name of the person, company, etc.\")\n",
    "    type: NamedEntityType = Field(description=\"Type of named entity\")\n",
    "\n",
    "class NewsArticle(BaseModel):\n",
    "    title: str = Field(description=\"Appropriate headline for the news article\")\n",
    "    category: ArticleCategory = Field(description=\"Category of news that the article belongs to\")\n",
    "    mentioned_entities: list[NamedEntity] = Field(description=\"List of all named entities in the article\", default_factory=list)\n",
    "    summary: str = Field(description=\"Brief summary of the article content.\")\n",
    "\n"
   ]
  },
  {
   "cell_type": "code",
   "execution_count": 4,
   "id": "2947eba7",
   "metadata": {},
   "outputs": [
    {
     "name": "stdout",
     "output_type": "stream",
     "text": [
      "{\n",
      "  \"$defs\": {\n",
      "    \"ArticleCategory\": {\n",
      "      \"enum\": [\n",
      "        \"business\",\n",
      "        \"entertainment\",\n",
      "        \"politics\",\n",
      "        \"sport\",\n",
      "        \"tech\"\n",
      "      ],\n",
      "      \"title\": \"ArticleCategory\",\n",
      "      \"type\": \"string\"\n",
      "    },\n",
      "    \"NamedEntity\": {\n",
      "      \"properties\": {\n",
      "        \"name\": {\n",
      "          \"description\": \"Name of the person, company, etc.\",\n",
      "          \"title\": \"Name\",\n",
      "          \"type\": \"string\"\n",
      "        },\n",
      "        \"type\": {\n",
      "          \"$ref\": \"#/$defs/NamedEntityType\",\n",
      "          \"description\": \"Type of named entity\"\n",
      "        }\n",
      "      },\n",
      "      \"required\": [\n",
      "        \"name\",\n",
      "        \"type\"\n",
      "      ],\n",
      "      \"title\": \"NamedEntity\",\n",
      "      \"type\": \"object\"\n",
      "    },\n",
      "    \"NamedEntityType\": {\n",
      "      \"enum\": [\n",
      "        \"company\",\n",
      "        \"country\",\n",
      "        \"location\",\n",
      "        \"person\"\n",
      "      ],\n",
      "      \"title\": \"NamedEntityType\",\n",
      "      \"type\": \"string\"\n",
      "    }\n",
      "  },\n",
      "  \"properties\": {\n",
      "    \"title\": {\n",
      "      \"description\": \"Appropriate headline for the news article\",\n",
      "      \"title\": \"Title\",\n",
      "      \"type\": \"string\"\n",
      "    },\n",
      "    \"category\": {\n",
      "      \"$ref\": \"#/$defs/ArticleCategory\",\n",
      "      \"description\": \"Category of news that the article belongs to\"\n",
      "    },\n",
      "    \"mentioned_entities\": {\n",
      "      \"description\": \"List of all named entities in the article\",\n",
      "      \"items\": {\n",
      "        \"$ref\": \"#/$defs/NamedEntity\"\n",
      "      },\n",
      "      \"title\": \"Mentioned Entities\",\n",
      "      \"type\": \"array\"\n",
      "    },\n",
      "    \"summary\": {\n",
      "      \"description\": \"Brief summary of the article content.\",\n",
      "      \"title\": \"Summary\",\n",
      "      \"type\": \"string\"\n",
      "    }\n",
      "  },\n",
      "  \"required\": [\n",
      "    \"title\",\n",
      "    \"category\",\n",
      "    \"summary\"\n",
      "  ],\n",
      "  \"title\": \"NewsArticle\",\n",
      "  \"type\": \"object\"\n",
      "}\n"
     ]
    }
   ],
   "source": [
    "news_article_schema = NewsArticle.model_json_schema()\n",
    "print(json.dumps(news_article_schema, indent=2))"
   ]
  },
  {
   "cell_type": "code",
   "execution_count": 9,
   "id": "15d20f4c",
   "metadata": {},
   "outputs": [],
   "source": [
    "EXTRACTION_PROMPT = \"\"\"\n",
    "Read the news article below and extract the information into a\n",
    "JSON object. This is the schema you should use to extract the\n",
    "data. It's provided in standard JSON Schema format.\n",
    "\n",
    "```json\n",
    "{news_article_schema}\n",
    "```\n",
    "\n",
    "Here is the news article to generate the JSON data for. The article\n",
    "is surrounded by triple backticks.\n",
    "\n",
    "```\n",
    "{news_article}\n",
    "```\n",
    "\n",
    "Format your response as a JSON object surrounded by triple backticks\n",
    "with the 'json' identifier like this:\n",
    "```json\n",
    "your JSON object here\n",
    "```\n",
    "\n",
    "Be sure to follow the provided schema exactly.\n",
    "\"\"\""
   ]
  },
  {
   "cell_type": "markdown",
   "id": "f23075be",
   "metadata": {},
   "source": [
    "If this notebook is being run in Github Codespaces, you'll need to set `OPENAI_API_KEY` as a codespace secret in user settings. If it's being run locally then you'll need to set the environment variable `OPENAI_API_KEY`."
   ]
  },
  {
   "cell_type": "code",
   "execution_count": 21,
   "id": "643d6d45",
   "metadata": {},
   "outputs": [],
   "source": [
    "def extract_article_data(article: str, model_name: str, client: OpenAI) -> bool:\n",
    "    \"\"\"Returns true if JSON is appropriately formatted\"\"\"\n",
    "\n",
    "    formatted_prompt = EXTRACTION_PROMPT.format(\n",
    "        news_article_schema=json.dumps(news_article_schema, indent=2),\n",
    "        news_article=article\n",
    "    )\n",
    "\n",
    "    response = client.responses.create(\n",
    "        model=model_name,\n",
    "        input=formatted_prompt,\n",
    "        temperature=0.0,\n",
    "    )\n",
    "    extracted_json = response.output_text\n",
    "\n",
    "    if \"```json\" in extracted_json and \"```\" in extracted_json.split(\"```json\", 1)[1]:\n",
    "        json_content = extracted_json.split(\"```json\", 1)[1].split(\"```\", 1)[0].strip()\n",
    "\n",
    "        try:\n",
    "            parsed_json = json.loads(json_content)\n",
    "            _ = NewsArticle.model_validate(parsed_json)\n",
    "            return True\n",
    "        except (json.JSONDecodeError, ValidationError) as e:\n",
    "            return False\n",
    "    else:\n",
    "        return False"
   ]
  },
  {
   "cell_type": "code",
   "execution_count": 24,
   "id": "79773ed1",
   "metadata": {},
   "outputs": [
    {
     "name": "stdout",
     "output_type": "stream",
     "text": [
      "For gpt-3.5-turbo successfully validated 18 of 20 records\n"
     ]
    }
   ],
   "source": [
    "openai_client = OpenAI()\n",
    "\n",
    "ARTICLE_COUNT = 20\n",
    "\n",
    "success_count = 0\n",
    "model_name=\"gpt-3.5-turbo\"\n",
    "\n",
    "for i in range(20):\n",
    "    article = combined_df['text'].iloc[i]\n",
    "    parsed_successfully = extract_article_data(article, model_name, openai_client)\n",
    "    if parsed_successfully:\n",
    "        success_count += 1\n",
    "\n",
    "print(f\"For {model_name} successfully validated {success_count} of {ARTICLE_COUNT} records\")"
   ]
  },
  {
   "cell_type": "code",
   "execution_count": null,
   "id": "c279fef8",
   "metadata": {},
   "outputs": [],
   "source": []
  }
 ],
 "metadata": {
  "kernelspec": {
   "display_name": "Python 3",
   "language": "python",
   "name": "python3"
  },
  "language_info": {
   "codemirror_mode": {
    "name": "ipython",
    "version": 3
   },
   "file_extension": ".py",
   "mimetype": "text/x-python",
   "name": "python",
   "nbconvert_exporter": "python",
   "pygments_lexer": "ipython3",
   "version": "3.12.1"
  }
 },
 "nbformat": 4,
 "nbformat_minor": 5
}
