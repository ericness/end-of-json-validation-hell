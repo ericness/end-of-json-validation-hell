{
 "cells": [
  {
   "cell_type": "markdown",
   "id": "76cde13c",
   "metadata": {},
   "source": [
    "# Evaluate JSON Generation Using Structured Output\n",
    "\n",
    "Use OpenAI's structured output feature to generate JSON using strict adherence to a schema."
   ]
  },
  {
   "cell_type": "code",
   "execution_count": 3,
   "id": "a15eacec",
   "metadata": {},
   "outputs": [],
   "source": [
    "from collections import defaultdict\n",
    "import asyncio\n",
    "from enum import StrEnum\n",
    "import json\n",
    "\n",
    "from datasets import load_dataset\n",
    "from openai import AsyncOpenAI\n",
    "from pydantic import BaseModel, Field, ValidationError\n",
    "from tqdm.notebook import tqdm\n",
    "import matplotlib.pyplot as plt\n",
    "import nest_asyncio\n",
    "import numpy as np\n",
    "import pandas as pd\n"
   ]
  },
  {
   "cell_type": "code",
   "execution_count": 4,
   "id": "cc268555",
   "metadata": {},
   "outputs": [],
   "source": [
    "nest_asyncio.apply()"
   ]
  },
  {
   "cell_type": "markdown",
   "id": "b4093207",
   "metadata": {},
   "source": [
    "## Load Dataset"
   ]
  },
  {
   "cell_type": "code",
   "execution_count": 5,
   "id": "f0b59029",
   "metadata": {},
   "outputs": [
    {
     "name": "stdout",
     "output_type": "stream",
     "text": [
      "Dataset Overview:\n",
      "Dataset size: 2225\n",
      "\n",
      "Label distribution in training set:\n",
      "label_text\n",
      "sport            511\n",
      "business         510\n",
      "politics         417\n",
      "tech             401\n",
      "entertainment    386\n",
      "Name: count, dtype: int64\n",
      "\n",
      "Sample text from training set:\n",
      "wales want rugby league training wales could follow england s lead by training with a rugby league club.  england have already had a three-day session with leeds rhinos  and wales are thought to be in\n",
      "\n",
      "Text length mean: 2288.95\n"
     ]
    }
   ],
   "source": [
    "\n",
    "dataset = load_dataset(\"SetFit/bbc-news\")\n",
    "\n",
    "train_df = pd.DataFrame(dataset['train'])\n",
    "test_df = pd.DataFrame(dataset['test'])\n",
    "combined_df = pd.concat([train_df, test_df])\n",
    "\n",
    "print(\"Dataset Overview:\")\n",
    "print(f\"Dataset size: {len(combined_df)}\")\n",
    "print(\"\\nLabel distribution in training set:\")\n",
    "print(combined_df['label_text'].value_counts())\n",
    "print(\"\\nSample text from training set:\")\n",
    "print(combined_df['text'].iloc[0][:200])\n",
    "\n",
    "train_df['text_length'] = train_df['text'].str.len()\n",
    "print(f\"\\nText length mean: {train_df['text_length'].mean():.2f}\")"
   ]
  },
  {
   "cell_type": "markdown",
   "id": "9145e01d",
   "metadata": {},
   "source": [
    "## Declare Output Schema\n",
    "\n",
    "Declare the output schema that we want the LLM to generate"
   ]
  },
  {
   "cell_type": "code",
   "execution_count": 6,
   "id": "907347d1",
   "metadata": {},
   "outputs": [],
   "source": [
    "class ArticleCategory(StrEnum):\n",
    "    BUSINESS = \"business\"\n",
    "    ENTERTAINMENT = \"entertainment\"\n",
    "    POLITICS = \"politics\"\n",
    "    SPORT = \"sport\"\n",
    "    TECH = \"tech\"\n",
    "\n",
    "class NamedEntityType(StrEnum):\n",
    "    COMPANY = \"company\"\n",
    "    COUNTRY = \"country\"\n",
    "    LOCATION = \"location\"\n",
    "    PERSON = \"person\"\n",
    "    TEAM = \"team\"\n",
    "\n",
    "class NamedEntity(BaseModel):\n",
    "    name: str = Field(description=\"Name of the person, company, etc.\")\n",
    "    type: NamedEntityType = Field(description=\"Type of named entity\")\n",
    "\n",
    "class NewsArticle(BaseModel):\n",
    "    title: str = Field(description=\"Appropriate headline for the news article\")\n",
    "    category: ArticleCategory = Field(description=\"Category of news that the article belongs to\")\n",
    "    mentioned_entities: list[NamedEntity] = Field(description=\"List of all named entities in the article\", default_factory=list)\n",
    "    summary: str = Field(description=\"Brief summary of the article content.\")\n",
    "    length: int = Field(description=\"Length of the article in words.\")\n",
    "\n"
   ]
  },
  {
   "cell_type": "markdown",
   "id": "90b8bb0e",
   "metadata": {},
   "source": [
    "\n",
    "## Create LLM Prompt\n",
    "\n",
    "This prompt injects the JSON schema that was generated as well as a news article to analyze."
   ]
  },
  {
   "cell_type": "code",
   "execution_count": 7,
   "id": "15d20f4c",
   "metadata": {},
   "outputs": [],
   "source": [
    "EXTRACTION_PROMPT = \"\"\"\n",
    "Read the news article below and extract the information into a\n",
    "JSON object. \n",
    "\n",
    "Here is the news article to generate the JSON data for. The article\n",
    "is surrounded by triple backticks.\n",
    "\n",
    "```\n",
    "{news_article}\n",
    "```\n",
    "\n",
    "\"\"\""
   ]
  },
  {
   "cell_type": "markdown",
   "id": "305f3195",
   "metadata": {},
   "source": [
    "## Run Evaluation\n",
    "\n",
    "Run an evaluation for all models in `model_names`. The criteria for passing is if the output text can be parsed into a `NewsArticle` object.\n",
    "\n",
    "If this notebook is being run in Github Codespaces, you'll need to set `OPENAI_API_KEY` as a codespace secret in user settings. If it's being run locally then you'll need to set the environment variable `OPENAI_API_KEY`."
   ]
  },
  {
   "cell_type": "code",
   "execution_count": 8,
   "id": "643d6d45",
   "metadata": {},
   "outputs": [],
   "source": [
    "async def extract_article_data(article: str, model_name: str, client: AsyncOpenAI, semaphore: asyncio.Semaphore) -> bool:\n",
    "    \"\"\"Returns true if JSON is appropriately formatted\"\"\"\n",
    "\n",
    "    formatted_prompt = EXTRACTION_PROMPT.format(news_article=article)\n",
    "\n",
    "    async with semaphore:\n",
    "        response = await client.beta.chat.completions.parse(\n",
    "            model=model_name,\n",
    "            messages=[{\"role\": \"user\", \"content\": formatted_prompt}],\n",
    "            temperature=0.0,\n",
    "            response_format = NewsArticle\n",
    "        )\n",
    "\n",
    "        news_article = response.choices[0].message.parsed\n",
    "        return isinstance(news_article, NewsArticle)"
   ]
  },
  {
   "cell_type": "code",
   "execution_count": 9,
   "id": "79773ed1",
   "metadata": {},
   "outputs": [
    {
     "data": {
      "application/vnd.jupyter.widget-view+json": {
       "model_id": "b7a408e40fc54778863ec1f0e465a35d",
       "version_major": 2,
       "version_minor": 0
      },
      "text/plain": [
       "  0%|          | 0/100 [00:00<?, ?it/s]"
      ]
     },
     "metadata": {},
     "output_type": "display_data"
    },
    {
     "name": "stdout",
     "output_type": "stream",
     "text": [
      "For gpt-4o-mini successfully validated 100 of 100 records\n"
     ]
    }
   ],
   "source": [
    "openai_client = AsyncOpenAI()\n",
    "\n",
    "ARTICLE_COUNT = 100\n",
    "MAX_CONCURRENT_TASKS = 4\n",
    "loop_semaphore = asyncio.Semaphore(MAX_CONCURRENT_TASKS)\n",
    "\n",
    "success_count = 0\n",
    "model_names=[\"gpt-4o-mini\"]\n",
    "# model_names=[\"gpt-3.5-turbo\", \"gpt-4-turbo\", \"gpt-4o-mini\"]\n",
    "\n",
    "results = defaultdict(list)\n",
    "for model_name in model_names:\n",
    "    tasks = [extract_article_data(article, model_name, openai_client, loop_semaphore) for article in combined_df['text'][:ARTICLE_COUNT]]\n",
    "\n",
    "    for f in tqdm(asyncio.as_completed(tasks), total=len(tasks)):\n",
    "        results[model_name].append(await f)\n",
    "        \n",
    "    success_count = sum(1 for result in results[model_name] if result)\n",
    "    print(f\"For {model_name} successfully validated {success_count} of {ARTICLE_COUNT} records\")"
   ]
  },
  {
   "cell_type": "markdown",
   "id": "659543c2",
   "metadata": {},
   "source": [
    "## Display Results"
   ]
  },
  {
   "cell_type": "code",
   "execution_count": 12,
   "id": "c279fef8",
   "metadata": {},
   "outputs": [],
   "source": [
    "model_success_rates = {}\n",
    "for model_name, results_list in results.items():\n",
    "    success_count = sum(1 for result in results_list if result)\n",
    "    success_rate = (success_count / len(results_list)) * 100\n",
    "    model_success_rates[model_name] = success_rate\n"
   ]
  },
  {
   "cell_type": "code",
   "execution_count": 13,
   "id": "f73cee9d",
   "metadata": {},
   "outputs": [
    {
     "data": {
      "image/png": "[encoded data removed]",
      "text/plain": [
       "<Figure size 1000x600 with 1 Axes>"
      ]
     },
     "metadata": {},
     "output_type": "display_data"
    }
   ],
   "source": [
    "\n",
    "models = list(results.keys())\n",
    "success_rates = [model_success_rates[model] for model in models]\n",
    "\n",
    "plt.figure(figsize=(10, 6))\n",
    "bars = plt.bar(models, success_rates, color=['#5DA5DA', '#FAA43A', '#60BD68'])\n",
    "\n",
    "plt.xlabel('Model')\n",
    "plt.ylabel('Success Rate (%)')\n",
    "plt.title('JSON Extraction Success Rate by Model')\n",
    "plt.ylim(0, 100)\n",
    "\n",
    "plt.grid(axis='y', linestyle='--', alpha=0.7)\n",
    "plt.tight_layout()\n",
    "plt.show()"
   ]
  }
 ],
 "metadata": {
  "kernelspec": {
   "display_name": "Python 3",
   "language": "python",
   "name": "python3"
  },
  "language_info": {
   "codemirror_mode": {
    "name": "ipython",
    "version": 3
   },
   "file_extension": ".py",
   "mimetype": "text/x-python",
   "name": "python",
   "nbconvert_exporter": "python",
   "pygments_lexer": "ipython3",
   "version": "3.12.1"
  }
 },
 "nbformat": 4,
 "nbformat_minor": 5
}
